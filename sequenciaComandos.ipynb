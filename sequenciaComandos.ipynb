{
  "cells": [
    {
      "cell_type": "markdown",
      "metadata": {
        "id": "view-in-github",
        "colab_type": "text"
      },
      "source": [
        "<a href=\"https://colab.research.google.com/github/luizabasseto/CyberLLMInstruct/blob/main/sequenciaComandos.ipynb\" target=\"_parent\"><img src=\"https://colab.research.google.com/assets/colab-badge.svg\" alt=\"Open In Colab\"/></a>"
      ]
    },
    {
      "cell_type": "code",
      "execution_count": 33,
      "metadata": {
        "colab": {
          "base_uri": "https://localhost:8080/"
        },
        "id": "TU75yVlkq2HH",
        "outputId": "d7189eaa-8899-4b46-9804-4fab7cb47345"
      },
      "outputs": [
        {
          "output_type": "stream",
          "name": "stdout",
          "text": [
            "fatal: destination path 'CyberLLMInstruct' already exists and is not an empty directory.\n"
          ]
        }
      ],
      "source": [
        "!git clone https://github.com/luizabasseto/CyberLLMInstruct.git"
      ]
    },
    {
      "cell_type": "code",
      "execution_count": 34,
      "metadata": {
        "colab": {
          "base_uri": "https://localhost:8080/"
        },
        "id": "RlXrqrAVsyBo",
        "outputId": "816c0516-f771-4c54-9753-d4c42c34e5ec"
      },
      "outputs": [
        {
          "output_type": "stream",
          "name": "stdout",
          "text": [
            "CyberLLMInstruct   final_dataset   raw_data\t  security_aligned\n",
            "domain_classified  nohup.out\t   reviewed_data  structured_data\n",
            "filtered_data\t   processed_data  sample_data\t  venv\n"
          ]
        }
      ],
      "source": [
        "!ls"
      ]
    },
    {
      "cell_type": "code",
      "execution_count": 35,
      "metadata": {
        "colab": {
          "base_uri": "https://localhost:8080/"
        },
        "id": "zoJn8jfLzHG1",
        "outputId": "39c6a14e-8d04-4be6-ce7b-b704e11f7c88"
      },
      "outputs": [
        {
          "output_type": "stream",
          "name": "stdout",
          "text": [
            "Arquivo 'raw_data/fake_data.json' criado com sucesso!\n"
          ]
        }
      ],
      "source": [
        "import json\n",
        "\n",
        "# Dados de exemplo para alimentar o pipeline\n",
        "fake_data = [\n",
        "    {\n",
        "        \"content\": \"How do I configure a firewall to block a specific IP address on Ubuntu?\",\n",
        "        \"source\": \"fake_source_1\"\n",
        "    },\n",
        "    {\n",
        "        \"content\": \"What is a SQL injection attack and how can I prevent it in my Python code?\",\n",
        "        \"source\": \"fake_source_2\"\n",
        "    },\n",
        "    {\n",
        "        \"content\": \"This text is not about security and should be filtered out.\",\n",
        "        \"source\": \"fake_source_3\"\n",
        "    }\n",
        "]\n",
        "\n",
        "# Cria o diretório se ele não existir\n",
        "!mkdir -p raw_data\n",
        "\n",
        "# Salva os dados falsos no arquivo\n",
        "with open('raw_data/fake_data.json', 'w') as f:\n",
        "    json.dump(fake_data, f, indent=2)\n",
        "\n",
        "print(\"Arquivo 'raw_data/fake_data.json' criado com sucesso!\")"
      ]
    },
    {
      "cell_type": "code",
      "execution_count": 36,
      "metadata": {
        "colab": {
          "base_uri": "https://localhost:8080/"
        },
        "id": "83idRX2rs0xB",
        "outputId": "0db1faf7-5648-4530-e8f7-858190719016"
      },
      "outputs": [
        {
          "output_type": "stream",
          "name": "stdout",
          "text": [
            "Ignoring windows-curses: markers 'platform_system == \"Windows\"' don't match your environment\n",
            "Requirement already satisfied: requests>=2.31.0 in /usr/local/lib/python3.12/dist-packages (from -r CyberLLMInstruct/requirements.txt (line 1)) (2.32.4)\n",
            "Requirement already satisfied: beautifulsoup4>=4.12.2 in /usr/local/lib/python3.12/dist-packages (from -r CyberLLMInstruct/requirements.txt (line 2)) (4.13.5)\n",
            "Requirement already satisfied: pathlib>=1.0.1 in /usr/local/lib/python3.12/dist-packages (from -r CyberLLMInstruct/requirements.txt (line 3)) (1.0.1)\n",
            "Requirement already satisfied: feedparser>=6.0.10 in /usr/local/lib/python3.12/dist-packages (from -r CyberLLMInstruct/requirements.txt (line 4)) (6.0.12)\n",
            "Requirement already satisfied: pandas>=2.0.0 in /usr/local/lib/python3.12/dist-packages (from -r CyberLLMInstruct/requirements.txt (line 5)) (2.2.2)\n",
            "Requirement already satisfied: pyyaml>=6.0.1 in /usr/local/lib/python3.12/dist-packages (from -r CyberLLMInstruct/requirements.txt (line 6)) (6.0.3)\n",
            "Requirement already satisfied: lxml>=4.9.3 in /usr/local/lib/python3.12/dist-packages (from -r CyberLLMInstruct/requirements.txt (line 7)) (5.4.0)\n",
            "Requirement already satisfied: scikit-learn>=1.3.0 in /usr/local/lib/python3.12/dist-packages (from -r CyberLLMInstruct/requirements.txt (line 8)) (1.6.1)\n",
            "Requirement already satisfied: numpy>=1.24.0 in /usr/local/lib/python3.12/dist-packages (from -r CyberLLMInstruct/requirements.txt (line 9)) (2.0.2)\n",
            "Requirement already satisfied: joblib>=1.3.0 in /usr/local/lib/python3.12/dist-packages (from -r CyberLLMInstruct/requirements.txt (line 10)) (1.5.2)\n",
            "Requirement already satisfied: questionary>=2.0.1 in /usr/local/lib/python3.12/dist-packages (from -r CyberLLMInstruct/requirements.txt (line 11)) (2.1.1)\n",
            "Requirement already satisfied: rich>=13.7.0 in /usr/local/lib/python3.12/dist-packages (from -r CyberLLMInstruct/requirements.txt (line 12)) (13.9.4)\n",
            "Requirement already satisfied: Jinja2>=3.1.2 in /usr/local/lib/python3.12/dist-packages (from -r CyberLLMInstruct/requirements.txt (line 14)) (3.1.6)\n",
            "Requirement already satisfied: openai>=1.3.0 in /usr/local/lib/python3.12/dist-packages (from -r CyberLLMInstruct/requirements.txt (line 15)) (1.109.1)\n",
            "Requirement already satisfied: aiohttp>=3.9.0 in /usr/local/lib/python3.12/dist-packages (from -r CyberLLMInstruct/requirements.txt (line 16)) (3.13.0)\n",
            "Requirement already satisfied: tenacity>=8.2.3 in /usr/local/lib/python3.12/dist-packages (from -r CyberLLMInstruct/requirements.txt (line 17)) (8.5.0)\n",
            "Requirement already satisfied: tiktoken>=0.5.1 in /usr/local/lib/python3.12/dist-packages (from -r CyberLLMInstruct/requirements.txt (line 18)) (0.12.0)\n",
            "Requirement already satisfied: pyarrow>=14.0.1 in /usr/local/lib/python3.12/dist-packages (from -r CyberLLMInstruct/requirements.txt (line 19)) (18.1.0)\n",
            "Requirement already satisfied: jsonschema>=4.20.0 in /usr/local/lib/python3.12/dist-packages (from -r CyberLLMInstruct/requirements.txt (line 20)) (4.25.1)\n",
            "Requirement already satisfied: transformers>=4.36.0 in /usr/local/lib/python3.12/dist-packages (from -r CyberLLMInstruct/requirements.txt (line 21)) (4.57.1)\n",
            "Requirement already satisfied: datasets>=2.15.0 in /usr/local/lib/python3.12/dist-packages (from -r CyberLLMInstruct/requirements.txt (line 22)) (4.0.0)\n",
            "Requirement already satisfied: torch>=2.1.0 in /usr/local/lib/python3.12/dist-packages (from -r CyberLLMInstruct/requirements.txt (line 23)) (2.8.0+cu126)\n",
            "Requirement already satisfied: tqdm>=4.66.0 in /usr/local/lib/python3.12/dist-packages (from -r CyberLLMInstruct/requirements.txt (line 24)) (4.67.1)\n",
            "Requirement already satisfied: peft>=0.7.0 in /usr/local/lib/python3.12/dist-packages (from -r CyberLLMInstruct/requirements.txt (line 25)) (0.17.1)\n",
            "Requirement already satisfied: accelerate>=0.25.0 in /usr/local/lib/python3.12/dist-packages (from -r CyberLLMInstruct/requirements.txt (line 26)) (1.11.0)\n",
            "Requirement already satisfied: bitsandbytes>=0.41.0 in /usr/local/lib/python3.12/dist-packages (from -r CyberLLMInstruct/requirements.txt (line 27)) (0.48.1)\n",
            "Requirement already satisfied: wandb>=0.16.0 in /usr/local/lib/python3.12/dist-packages (from -r CyberLLMInstruct/requirements.txt (line 28)) (0.22.2)\n",
            "Requirement already satisfied: tensorboard>=2.15.0 in /usr/local/lib/python3.12/dist-packages (from -r CyberLLMInstruct/requirements.txt (line 29)) (2.19.0)\n",
            "Requirement already satisfied: charset_normalizer<4,>=2 in /usr/local/lib/python3.12/dist-packages (from requests>=2.31.0->-r CyberLLMInstruct/requirements.txt (line 1)) (3.4.4)\n",
            "Requirement already satisfied: idna<4,>=2.5 in /usr/local/lib/python3.12/dist-packages (from requests>=2.31.0->-r CyberLLMInstruct/requirements.txt (line 1)) (3.11)\n",
            "Requirement already satisfied: urllib3<3,>=1.21.1 in /usr/local/lib/python3.12/dist-packages (from requests>=2.31.0->-r CyberLLMInstruct/requirements.txt (line 1)) (2.5.0)\n",
            "Requirement already satisfied: certifi>=2017.4.17 in /usr/local/lib/python3.12/dist-packages (from requests>=2.31.0->-r CyberLLMInstruct/requirements.txt (line 1)) (2025.10.5)\n",
            "Requirement already satisfied: soupsieve>1.2 in /usr/local/lib/python3.12/dist-packages (from beautifulsoup4>=4.12.2->-r CyberLLMInstruct/requirements.txt (line 2)) (2.8)\n",
            "Requirement already satisfied: typing-extensions>=4.0.0 in /usr/local/lib/python3.12/dist-packages (from beautifulsoup4>=4.12.2->-r CyberLLMInstruct/requirements.txt (line 2)) (4.15.0)\n",
            "Requirement already satisfied: sgmllib3k in /usr/local/lib/python3.12/dist-packages (from feedparser>=6.0.10->-r CyberLLMInstruct/requirements.txt (line 4)) (1.0.0)\n",
            "Requirement already satisfied: python-dateutil>=2.8.2 in /usr/local/lib/python3.12/dist-packages (from pandas>=2.0.0->-r CyberLLMInstruct/requirements.txt (line 5)) (2.9.0.post0)\n",
            "Requirement already satisfied: pytz>=2020.1 in /usr/local/lib/python3.12/dist-packages (from pandas>=2.0.0->-r CyberLLMInstruct/requirements.txt (line 5)) (2025.2)\n",
            "Requirement already satisfied: tzdata>=2022.7 in /usr/local/lib/python3.12/dist-packages (from pandas>=2.0.0->-r CyberLLMInstruct/requirements.txt (line 5)) (2025.2)\n",
            "Requirement already satisfied: scipy>=1.6.0 in /usr/local/lib/python3.12/dist-packages (from scikit-learn>=1.3.0->-r CyberLLMInstruct/requirements.txt (line 8)) (1.16.2)\n",
            "Requirement already satisfied: threadpoolctl>=3.1.0 in /usr/local/lib/python3.12/dist-packages (from scikit-learn>=1.3.0->-r CyberLLMInstruct/requirements.txt (line 8)) (3.6.0)\n",
            "Requirement already satisfied: prompt_toolkit<4.0,>=2.0 in /usr/local/lib/python3.12/dist-packages (from questionary>=2.0.1->-r CyberLLMInstruct/requirements.txt (line 11)) (3.0.52)\n",
            "Requirement already satisfied: markdown-it-py>=2.2.0 in /usr/local/lib/python3.12/dist-packages (from rich>=13.7.0->-r CyberLLMInstruct/requirements.txt (line 12)) (4.0.0)\n",
            "Requirement already satisfied: pygments<3.0.0,>=2.13.0 in /usr/local/lib/python3.12/dist-packages (from rich>=13.7.0->-r CyberLLMInstruct/requirements.txt (line 12)) (2.19.2)\n",
            "Requirement already satisfied: MarkupSafe>=2.0 in /usr/local/lib/python3.12/dist-packages (from Jinja2>=3.1.2->-r CyberLLMInstruct/requirements.txt (line 14)) (3.0.3)\n",
            "Requirement already satisfied: anyio<5,>=3.5.0 in /usr/local/lib/python3.12/dist-packages (from openai>=1.3.0->-r CyberLLMInstruct/requirements.txt (line 15)) (4.11.0)\n",
            "Requirement already satisfied: distro<2,>=1.7.0 in /usr/local/lib/python3.12/dist-packages (from openai>=1.3.0->-r CyberLLMInstruct/requirements.txt (line 15)) (1.9.0)\n",
            "Requirement already satisfied: httpx<1,>=0.23.0 in /usr/local/lib/python3.12/dist-packages (from openai>=1.3.0->-r CyberLLMInstruct/requirements.txt (line 15)) (0.28.1)\n",
            "Requirement already satisfied: jiter<1,>=0.4.0 in /usr/local/lib/python3.12/dist-packages (from openai>=1.3.0->-r CyberLLMInstruct/requirements.txt (line 15)) (0.11.0)\n",
            "Requirement already satisfied: pydantic<3,>=1.9.0 in /usr/local/lib/python3.12/dist-packages (from openai>=1.3.0->-r CyberLLMInstruct/requirements.txt (line 15)) (2.11.10)\n",
            "Requirement already satisfied: sniffio in /usr/local/lib/python3.12/dist-packages (from openai>=1.3.0->-r CyberLLMInstruct/requirements.txt (line 15)) (1.3.1)\n",
            "Requirement already satisfied: aiohappyeyeballs>=2.5.0 in /usr/local/lib/python3.12/dist-packages (from aiohttp>=3.9.0->-r CyberLLMInstruct/requirements.txt (line 16)) (2.6.1)\n",
            "Requirement already satisfied: aiosignal>=1.4.0 in /usr/local/lib/python3.12/dist-packages (from aiohttp>=3.9.0->-r CyberLLMInstruct/requirements.txt (line 16)) (1.4.0)\n",
            "Requirement already satisfied: attrs>=17.3.0 in /usr/local/lib/python3.12/dist-packages (from aiohttp>=3.9.0->-r CyberLLMInstruct/requirements.txt (line 16)) (25.4.0)\n",
            "Requirement already satisfied: frozenlist>=1.1.1 in /usr/local/lib/python3.12/dist-packages (from aiohttp>=3.9.0->-r CyberLLMInstruct/requirements.txt (line 16)) (1.8.0)\n",
            "Requirement already satisfied: multidict<7.0,>=4.5 in /usr/local/lib/python3.12/dist-packages (from aiohttp>=3.9.0->-r CyberLLMInstruct/requirements.txt (line 16)) (6.7.0)\n",
            "Requirement already satisfied: propcache>=0.2.0 in /usr/local/lib/python3.12/dist-packages (from aiohttp>=3.9.0->-r CyberLLMInstruct/requirements.txt (line 16)) (0.4.1)\n",
            "Requirement already satisfied: yarl<2.0,>=1.17.0 in /usr/local/lib/python3.12/dist-packages (from aiohttp>=3.9.0->-r CyberLLMInstruct/requirements.txt (line 16)) (1.22.0)\n",
            "Requirement already satisfied: regex>=2022.1.18 in /usr/local/lib/python3.12/dist-packages (from tiktoken>=0.5.1->-r CyberLLMInstruct/requirements.txt (line 18)) (2024.11.6)\n",
            "Requirement already satisfied: jsonschema-specifications>=2023.03.6 in /usr/local/lib/python3.12/dist-packages (from jsonschema>=4.20.0->-r CyberLLMInstruct/requirements.txt (line 20)) (2025.9.1)\n",
            "Requirement already satisfied: referencing>=0.28.4 in /usr/local/lib/python3.12/dist-packages (from jsonschema>=4.20.0->-r CyberLLMInstruct/requirements.txt (line 20)) (0.37.0)\n",
            "Requirement already satisfied: rpds-py>=0.7.1 in /usr/local/lib/python3.12/dist-packages (from jsonschema>=4.20.0->-r CyberLLMInstruct/requirements.txt (line 20)) (0.27.1)\n",
            "Requirement already satisfied: filelock in /usr/local/lib/python3.12/dist-packages (from transformers>=4.36.0->-r CyberLLMInstruct/requirements.txt (line 21)) (3.20.0)\n",
            "Requirement already satisfied: huggingface-hub<1.0,>=0.34.0 in /usr/local/lib/python3.12/dist-packages (from transformers>=4.36.0->-r CyberLLMInstruct/requirements.txt (line 21)) (0.35.3)\n",
            "Requirement already satisfied: packaging>=20.0 in /usr/local/lib/python3.12/dist-packages (from transformers>=4.36.0->-r CyberLLMInstruct/requirements.txt (line 21)) (25.0)\n",
            "Requirement already satisfied: tokenizers<=0.23.0,>=0.22.0 in /usr/local/lib/python3.12/dist-packages (from transformers>=4.36.0->-r CyberLLMInstruct/requirements.txt (line 21)) (0.22.1)\n",
            "Requirement already satisfied: safetensors>=0.4.3 in /usr/local/lib/python3.12/dist-packages (from transformers>=4.36.0->-r CyberLLMInstruct/requirements.txt (line 21)) (0.6.2)\n",
            "Requirement already satisfied: dill<0.3.9,>=0.3.0 in /usr/local/lib/python3.12/dist-packages (from datasets>=2.15.0->-r CyberLLMInstruct/requirements.txt (line 22)) (0.3.8)\n",
            "Requirement already satisfied: xxhash in /usr/local/lib/python3.12/dist-packages (from datasets>=2.15.0->-r CyberLLMInstruct/requirements.txt (line 22)) (3.6.0)\n",
            "Requirement already satisfied: multiprocess<0.70.17 in /usr/local/lib/python3.12/dist-packages (from datasets>=2.15.0->-r CyberLLMInstruct/requirements.txt (line 22)) (0.70.16)\n",
            "Requirement already satisfied: fsspec<=2025.3.0,>=2023.1.0 in /usr/local/lib/python3.12/dist-packages (from fsspec[http]<=2025.3.0,>=2023.1.0->datasets>=2.15.0->-r CyberLLMInstruct/requirements.txt (line 22)) (2025.3.0)\n",
            "Requirement already satisfied: setuptools in /usr/local/lib/python3.12/dist-packages (from torch>=2.1.0->-r CyberLLMInstruct/requirements.txt (line 23)) (75.2.0)\n",
            "Requirement already satisfied: sympy>=1.13.3 in /usr/local/lib/python3.12/dist-packages (from torch>=2.1.0->-r CyberLLMInstruct/requirements.txt (line 23)) (1.13.3)\n",
            "Requirement already satisfied: networkx in /usr/local/lib/python3.12/dist-packages (from torch>=2.1.0->-r CyberLLMInstruct/requirements.txt (line 23)) (3.5)\n",
            "Requirement already satisfied: nvidia-cuda-nvrtc-cu12==12.6.77 in /usr/local/lib/python3.12/dist-packages (from torch>=2.1.0->-r CyberLLMInstruct/requirements.txt (line 23)) (12.6.77)\n",
            "Requirement already satisfied: nvidia-cuda-runtime-cu12==12.6.77 in /usr/local/lib/python3.12/dist-packages (from torch>=2.1.0->-r CyberLLMInstruct/requirements.txt (line 23)) (12.6.77)\n",
            "Requirement already satisfied: nvidia-cuda-cupti-cu12==12.6.80 in /usr/local/lib/python3.12/dist-packages (from torch>=2.1.0->-r CyberLLMInstruct/requirements.txt (line 23)) (12.6.80)\n",
            "Requirement already satisfied: nvidia-cudnn-cu12==9.10.2.21 in /usr/local/lib/python3.12/dist-packages (from torch>=2.1.0->-r CyberLLMInstruct/requirements.txt (line 23)) (9.10.2.21)\n",
            "Requirement already satisfied: nvidia-cublas-cu12==12.6.4.1 in /usr/local/lib/python3.12/dist-packages (from torch>=2.1.0->-r CyberLLMInstruct/requirements.txt (line 23)) (12.6.4.1)\n",
            "Requirement already satisfied: nvidia-cufft-cu12==11.3.0.4 in /usr/local/lib/python3.12/dist-packages (from torch>=2.1.0->-r CyberLLMInstruct/requirements.txt (line 23)) (11.3.0.4)\n",
            "Requirement already satisfied: nvidia-curand-cu12==10.3.7.77 in /usr/local/lib/python3.12/dist-packages (from torch>=2.1.0->-r CyberLLMInstruct/requirements.txt (line 23)) (10.3.7.77)\n",
            "Requirement already satisfied: nvidia-cusolver-cu12==11.7.1.2 in /usr/local/lib/python3.12/dist-packages (from torch>=2.1.0->-r CyberLLMInstruct/requirements.txt (line 23)) (11.7.1.2)\n",
            "Requirement already satisfied: nvidia-cusparse-cu12==12.5.4.2 in /usr/local/lib/python3.12/dist-packages (from torch>=2.1.0->-r CyberLLMInstruct/requirements.txt (line 23)) (12.5.4.2)\n",
            "Requirement already satisfied: nvidia-cusparselt-cu12==0.7.1 in /usr/local/lib/python3.12/dist-packages (from torch>=2.1.0->-r CyberLLMInstruct/requirements.txt (line 23)) (0.7.1)\n",
            "Requirement already satisfied: nvidia-nccl-cu12==2.27.3 in /usr/local/lib/python3.12/dist-packages (from torch>=2.1.0->-r CyberLLMInstruct/requirements.txt (line 23)) (2.27.3)\n",
            "Requirement already satisfied: nvidia-nvtx-cu12==12.6.77 in /usr/local/lib/python3.12/dist-packages (from torch>=2.1.0->-r CyberLLMInstruct/requirements.txt (line 23)) (12.6.77)\n",
            "Requirement already satisfied: nvidia-nvjitlink-cu12==12.6.85 in /usr/local/lib/python3.12/dist-packages (from torch>=2.1.0->-r CyberLLMInstruct/requirements.txt (line 23)) (12.6.85)\n",
            "Requirement already satisfied: nvidia-cufile-cu12==1.11.1.6 in /usr/local/lib/python3.12/dist-packages (from torch>=2.1.0->-r CyberLLMInstruct/requirements.txt (line 23)) (1.11.1.6)\n",
            "Requirement already satisfied: triton==3.4.0 in /usr/local/lib/python3.12/dist-packages (from torch>=2.1.0->-r CyberLLMInstruct/requirements.txt (line 23)) (3.4.0)\n",
            "Requirement already satisfied: psutil in /usr/local/lib/python3.12/dist-packages (from peft>=0.7.0->-r CyberLLMInstruct/requirements.txt (line 25)) (5.9.5)\n",
            "Requirement already satisfied: click>=8.0.1 in /usr/local/lib/python3.12/dist-packages (from wandb>=0.16.0->-r CyberLLMInstruct/requirements.txt (line 28)) (8.3.0)\n",
            "Requirement already satisfied: gitpython!=3.1.29,>=1.0.0 in /usr/local/lib/python3.12/dist-packages (from wandb>=0.16.0->-r CyberLLMInstruct/requirements.txt (line 28)) (3.1.45)\n",
            "Requirement already satisfied: platformdirs in /usr/local/lib/python3.12/dist-packages (from wandb>=0.16.0->-r CyberLLMInstruct/requirements.txt (line 28)) (4.5.0)\n",
            "Requirement already satisfied: protobuf!=4.21.0,!=5.28.0,<7,>=3.19.0 in /usr/local/lib/python3.12/dist-packages (from wandb>=0.16.0->-r CyberLLMInstruct/requirements.txt (line 28)) (5.29.5)\n",
            "Requirement already satisfied: sentry-sdk>=2.0.0 in /usr/local/lib/python3.12/dist-packages (from wandb>=0.16.0->-r CyberLLMInstruct/requirements.txt (line 28)) (2.42.0)\n",
            "Requirement already satisfied: absl-py>=0.4 in /usr/local/lib/python3.12/dist-packages (from tensorboard>=2.15.0->-r CyberLLMInstruct/requirements.txt (line 29)) (1.4.0)\n",
            "Requirement already satisfied: grpcio>=1.48.2 in /usr/local/lib/python3.12/dist-packages (from tensorboard>=2.15.0->-r CyberLLMInstruct/requirements.txt (line 29)) (1.75.1)\n",
            "Requirement already satisfied: markdown>=2.6.8 in /usr/local/lib/python3.12/dist-packages (from tensorboard>=2.15.0->-r CyberLLMInstruct/requirements.txt (line 29)) (3.9)\n",
            "Requirement already satisfied: six>1.9 in /usr/local/lib/python3.12/dist-packages (from tensorboard>=2.15.0->-r CyberLLMInstruct/requirements.txt (line 29)) (1.17.0)\n",
            "Requirement already satisfied: tensorboard-data-server<0.8.0,>=0.7.0 in /usr/local/lib/python3.12/dist-packages (from tensorboard>=2.15.0->-r CyberLLMInstruct/requirements.txt (line 29)) (0.7.2)\n",
            "Requirement already satisfied: werkzeug>=1.0.1 in /usr/local/lib/python3.12/dist-packages (from tensorboard>=2.15.0->-r CyberLLMInstruct/requirements.txt (line 29)) (3.1.3)\n",
            "Requirement already satisfied: gitdb<5,>=4.0.1 in /usr/local/lib/python3.12/dist-packages (from gitpython!=3.1.29,>=1.0.0->wandb>=0.16.0->-r CyberLLMInstruct/requirements.txt (line 28)) (4.0.12)\n",
            "Requirement already satisfied: httpcore==1.* in /usr/local/lib/python3.12/dist-packages (from httpx<1,>=0.23.0->openai>=1.3.0->-r CyberLLMInstruct/requirements.txt (line 15)) (1.0.9)\n",
            "Requirement already satisfied: h11>=0.16 in /usr/local/lib/python3.12/dist-packages (from httpcore==1.*->httpx<1,>=0.23.0->openai>=1.3.0->-r CyberLLMInstruct/requirements.txt (line 15)) (0.16.0)\n",
            "Requirement already satisfied: hf-xet<2.0.0,>=1.1.3 in /usr/local/lib/python3.12/dist-packages (from huggingface-hub<1.0,>=0.34.0->transformers>=4.36.0->-r CyberLLMInstruct/requirements.txt (line 21)) (1.1.10)\n",
            "Requirement already satisfied: mdurl~=0.1 in /usr/local/lib/python3.12/dist-packages (from markdown-it-py>=2.2.0->rich>=13.7.0->-r CyberLLMInstruct/requirements.txt (line 12)) (0.1.2)\n",
            "Requirement already satisfied: wcwidth in /usr/local/lib/python3.12/dist-packages (from prompt_toolkit<4.0,>=2.0->questionary>=2.0.1->-r CyberLLMInstruct/requirements.txt (line 11)) (0.2.14)\n",
            "Requirement already satisfied: annotated-types>=0.6.0 in /usr/local/lib/python3.12/dist-packages (from pydantic<3,>=1.9.0->openai>=1.3.0->-r CyberLLMInstruct/requirements.txt (line 15)) (0.7.0)\n",
            "Requirement already satisfied: pydantic-core==2.33.2 in /usr/local/lib/python3.12/dist-packages (from pydantic<3,>=1.9.0->openai>=1.3.0->-r CyberLLMInstruct/requirements.txt (line 15)) (2.33.2)\n",
            "Requirement already satisfied: typing-inspection>=0.4.0 in /usr/local/lib/python3.12/dist-packages (from pydantic<3,>=1.9.0->openai>=1.3.0->-r CyberLLMInstruct/requirements.txt (line 15)) (0.4.2)\n",
            "Requirement already satisfied: mpmath<1.4,>=1.1.0 in /usr/local/lib/python3.12/dist-packages (from sympy>=1.13.3->torch>=2.1.0->-r CyberLLMInstruct/requirements.txt (line 23)) (1.3.0)\n",
            "Requirement already satisfied: smmap<6,>=3.0.1 in /usr/local/lib/python3.12/dist-packages (from gitdb<5,>=4.0.1->gitpython!=3.1.29,>=1.0.0->wandb>=0.16.0->-r CyberLLMInstruct/requirements.txt (line 28)) (5.0.2)\n"
          ]
        }
      ],
      "source": [
        "!pip install -r CyberLLMInstruct/requirements.txt"
      ]
    },
    {
      "cell_type": "code",
      "execution_count": 37,
      "metadata": {
        "colab": {
          "base_uri": "https://localhost:8080/",
          "height": 408
        },
        "id": "4kwJAHjQtgn9",
        "outputId": "ff7a8b96-65b6-4e15-8a64-2d2864582b0a"
      },
      "outputs": [
        {
          "output_type": "stream",
          "name": "stdout",
          "text": [
            ">>> Cleaning up old version at /usr/local/lib/ollama\n",
            ">>> Installing ollama to /usr/local\n",
            ">>> Downloading Linux amd64 bundle\n",
            "############################################                              61.8%^C\n"
          ]
        },
        {
          "output_type": "error",
          "ename": "CancelledError",
          "evalue": "",
          "traceback": [
            "\u001b[0;31m---------------------------------------------------------------------------\u001b[0m",
            "\u001b[0;31mCancelledError\u001b[0m                            Traceback (most recent call last)",
            "\u001b[0;32m/tmp/ipython-input-1966522694.py\u001b[0m in \u001b[0;36m<cell line: 1>\u001b[0;34m()\u001b[0m\n\u001b[1;32m     12\u001b[0m     \u001b[0;32mawait\u001b[0m \u001b[0masyncio\u001b[0m\u001b[0;34m.\u001b[0m\u001b[0msleep\u001b[0m\u001b[0;34m(\u001b[0m\u001b[0;36m5\u001b[0m\u001b[0;34m)\u001b[0m\u001b[0;34m\u001b[0m\u001b[0;34m\u001b[0m\u001b[0m\n\u001b[1;32m     13\u001b[0m \u001b[0;34m\u001b[0m\u001b[0m\n\u001b[0;32m---> 14\u001b[0;31m \u001b[0;32mawait\u001b[0m \u001b[0mrun_ollama_serve\u001b[0m\u001b[0;34m(\u001b[0m\u001b[0;34m)\u001b[0m\u001b[0;34m\u001b[0m\u001b[0;34m\u001b[0m\u001b[0m\n\u001b[0m",
            "\u001b[0;32m/tmp/ipython-input-1966522694.py\u001b[0m in \u001b[0;36mrun_ollama_serve\u001b[0;34m()\u001b[0m\n\u001b[1;32m      4\u001b[0m \u001b[0;34m\u001b[0m\u001b[0m\n\u001b[1;32m      5\u001b[0m \u001b[0;32masync\u001b[0m \u001b[0;32mdef\u001b[0m \u001b[0mrun_ollama_serve\u001b[0m\u001b[0;34m(\u001b[0m\u001b[0;34m)\u001b[0m\u001b[0;34m:\u001b[0m\u001b[0;34m\u001b[0m\u001b[0;34m\u001b[0m\u001b[0m\n\u001b[0;32m----> 6\u001b[0;31m     process = await asyncio.create_subprocess_shell(\n\u001b[0m\u001b[1;32m      7\u001b[0m         \u001b[0;34m'ollama serve'\u001b[0m\u001b[0;34m,\u001b[0m\u001b[0;34m\u001b[0m\u001b[0;34m\u001b[0m\u001b[0m\n\u001b[1;32m      8\u001b[0m         \u001b[0mstdout\u001b[0m\u001b[0;34m=\u001b[0m\u001b[0masyncio\u001b[0m\u001b[0;34m.\u001b[0m\u001b[0msubprocess\u001b[0m\u001b[0;34m.\u001b[0m\u001b[0mPIPE\u001b[0m\u001b[0;34m,\u001b[0m\u001b[0;34m\u001b[0m\u001b[0;34m\u001b[0m\u001b[0m\n",
            "\u001b[0;32m/usr/lib/python3.12/asyncio/subprocess.py\u001b[0m in \u001b[0;36mcreate_subprocess_shell\u001b[0;34m(cmd, stdin, stdout, stderr, limit, **kwds)\u001b[0m\n\u001b[1;32m    209\u001b[0m     protocol_factory = lambda: SubprocessStreamProtocol(limit=limit,\n\u001b[1;32m    210\u001b[0m                                                         loop=loop)\n\u001b[0;32m--> 211\u001b[0;31m     transport, protocol = await loop.subprocess_shell(\n\u001b[0m\u001b[1;32m    212\u001b[0m         \u001b[0mprotocol_factory\u001b[0m\u001b[0;34m,\u001b[0m\u001b[0;34m\u001b[0m\u001b[0;34m\u001b[0m\u001b[0m\n\u001b[1;32m    213\u001b[0m         \u001b[0mcmd\u001b[0m\u001b[0;34m,\u001b[0m \u001b[0mstdin\u001b[0m\u001b[0;34m=\u001b[0m\u001b[0mstdin\u001b[0m\u001b[0;34m,\u001b[0m \u001b[0mstdout\u001b[0m\u001b[0;34m=\u001b[0m\u001b[0mstdout\u001b[0m\u001b[0;34m,\u001b[0m\u001b[0;34m\u001b[0m\u001b[0;34m\u001b[0m\u001b[0m\n",
            "\u001b[0;32m/usr/lib/python3.12/asyncio/base_events.py\u001b[0m in \u001b[0;36msubprocess_shell\u001b[0;34m(self, protocol_factory, cmd, stdin, stdout, stderr, universal_newlines, shell, bufsize, encoding, errors, text, **kwargs)\u001b[0m\n\u001b[1;32m   1721\u001b[0m             \u001b[0mdebug_log\u001b[0m \u001b[0;34m=\u001b[0m \u001b[0;34m'run shell command %r'\u001b[0m \u001b[0;34m%\u001b[0m \u001b[0mcmd\u001b[0m\u001b[0;34m\u001b[0m\u001b[0;34m\u001b[0m\u001b[0m\n\u001b[1;32m   1722\u001b[0m             \u001b[0mself\u001b[0m\u001b[0;34m.\u001b[0m\u001b[0m_log_subprocess\u001b[0m\u001b[0;34m(\u001b[0m\u001b[0mdebug_log\u001b[0m\u001b[0;34m,\u001b[0m \u001b[0mstdin\u001b[0m\u001b[0;34m,\u001b[0m \u001b[0mstdout\u001b[0m\u001b[0;34m,\u001b[0m \u001b[0mstderr\u001b[0m\u001b[0;34m)\u001b[0m\u001b[0;34m\u001b[0m\u001b[0;34m\u001b[0m\u001b[0m\n\u001b[0;32m-> 1723\u001b[0;31m         transport = await self._make_subprocess_transport(\n\u001b[0m\u001b[1;32m   1724\u001b[0m             protocol, cmd, True, stdin, stdout, stderr, bufsize, **kwargs)\n\u001b[1;32m   1725\u001b[0m         \u001b[0;32mif\u001b[0m \u001b[0mself\u001b[0m\u001b[0;34m.\u001b[0m\u001b[0m_debug\u001b[0m \u001b[0;32mand\u001b[0m \u001b[0mdebug_log\u001b[0m \u001b[0;32mis\u001b[0m \u001b[0;32mnot\u001b[0m \u001b[0;32mNone\u001b[0m\u001b[0;34m:\u001b[0m\u001b[0;34m\u001b[0m\u001b[0;34m\u001b[0m\u001b[0m\n",
            "\u001b[0;32m/usr/lib/python3.12/asyncio/unix_events.py\u001b[0m in \u001b[0;36m_make_subprocess_transport\u001b[0;34m(self, protocol, args, shell, stdin, stdout, stderr, bufsize, extra, **kwargs)\u001b[0m\n\u001b[1;32m    216\u001b[0m                                     self._child_watcher_callback, transp)\n\u001b[1;32m    217\u001b[0m             \u001b[0;32mtry\u001b[0m\u001b[0;34m:\u001b[0m\u001b[0;34m\u001b[0m\u001b[0;34m\u001b[0m\u001b[0m\n\u001b[0;32m--> 218\u001b[0;31m                 \u001b[0;32mawait\u001b[0m \u001b[0mwaiter\u001b[0m\u001b[0;34m\u001b[0m\u001b[0;34m\u001b[0m\u001b[0m\n\u001b[0m\u001b[1;32m    219\u001b[0m             \u001b[0;32mexcept\u001b[0m \u001b[0;34m(\u001b[0m\u001b[0mSystemExit\u001b[0m\u001b[0;34m,\u001b[0m \u001b[0mKeyboardInterrupt\u001b[0m\u001b[0;34m)\u001b[0m\u001b[0;34m:\u001b[0m\u001b[0;34m\u001b[0m\u001b[0;34m\u001b[0m\u001b[0m\n\u001b[1;32m    220\u001b[0m                 \u001b[0;32mraise\u001b[0m\u001b[0;34m\u001b[0m\u001b[0;34m\u001b[0m\u001b[0m\n",
            "\u001b[0;31mCancelledError\u001b[0m: "
          ]
        }
      ],
      "source": [
        "!curl -fsSL https://ollama.com/install.sh | sh\n",
        "\n",
        "import asyncio\n",
        "\n",
        "async def run_ollama_serve():\n",
        "    process = await asyncio.create_subprocess_shell(\n",
        "        'ollama serve',\n",
        "        stdout=asyncio.subprocess.PIPE,\n",
        "        stderr=asyncio.subprocess.PIPE\n",
        "    )\n",
        "    print(\"Servidor Ollama iniciado em segundo plano.\")\n",
        "    await asyncio.sleep(5)\n",
        "\n",
        "await run_ollama_serve()"
      ]
    },
    {
      "cell_type": "code",
      "execution_count": null,
      "metadata": {
        "id": "4iwkqmcYt5xl"
      },
      "outputs": [],
      "source": [
        "!ollama pull gemma:2b\n",
        "!ollama pull mistral:7b"
      ]
    },
    {
      "cell_type": "code",
      "execution_count": null,
      "metadata": {
        "id": "TzH8bjV5uKbH"
      },
      "outputs": [],
      "source": [
        "!python3 -m venv venv .\\venv\\Scripts\\activate"
      ]
    },
    {
      "cell_type": "code",
      "execution_count": null,
      "metadata": {
        "id": "3CPGtmuRun2f"
      },
      "outputs": [],
      "source": [
        "!python3 -m venv venv\n",
        "!source venv/bin/activate"
      ]
    },
    {
      "cell_type": "code",
      "execution_count": null,
      "metadata": {
        "id": "57Cxhgwcwdkg"
      },
      "outputs": [],
      "source": [
        "!pip install PyGithub"
      ]
    },
    {
      "cell_type": "code",
      "execution_count": null,
      "metadata": {
        "id": "YkAKEeRLwK5j"
      },
      "outputs": [],
      "source": [
        "#!python CyberLLMInstruct/dataset_creation/1_data_collector.py --sources source1 source2 --output-dir raw_data"
      ]
    },
    {
      "cell_type": "code",
      "execution_count": 13,
      "metadata": {
        "colab": {
          "base_uri": "https://localhost:8080/"
        },
        "id": "4hCMqXI_xE_f",
        "outputId": "808b24a2-69bf-45c1-ca75-b8cc4a239bf6"
      },
      "outputs": [
        {
          "output_type": "stream",
          "name": "stdout",
          "text": [
            "2025-10-22 11:33:06,114 - INFO - Ollama API version response: 200\n",
            "2025-10-22 11:33:06,122 - INFO - Ollama API tags response: 200\n",
            "2025-10-22 11:33:06,122 - INFO - Available Ollama models: ['gemma:2b', 'gemma']\n",
            "2025-10-22 11:33:06,122 - INFO - Looking for model: gemma:2b\n",
            "2025-10-22 11:33:06,122 - INFO - Model gemma:2b found!\n",
            "2025-10-22 11:33:06,122 - INFO - Successfully connected to Ollama with model gemma:2b\n",
            "2025-10-22 11:33:06,123 - INFO - Processing raw_data/fake_data.json (file 1 of 1)\n",
            "2025-10-22 11:33:06,123 - INFO - Processing 3 total entries\n",
            "2025-10-22 11:33:06,123 - INFO - Processing 3 entries for this test run\n",
            "2025-10-22 11:33:06,123 - INFO - Processing entry 1/3\n",
            "2025-10-22 11:33:09,128 - ERROR - Timeout while querying Ollama after 3 seconds\n",
            "2025-10-22 11:33:09,228 - INFO - Processing entry 2/3\n",
            "2025-10-22 11:33:12,233 - ERROR - Timeout while querying Ollama after 3 seconds\n",
            "2025-10-22 11:33:12,333 - INFO - Processing entry 3/3\n",
            "2025-10-22 11:33:15,338 - ERROR - Timeout while querying Ollama after 3 seconds\n",
            "2025-10-22 11:33:15,438 - INFO - Finished processing 3 entries: 0 relevant, 3 filtered out\n",
            "2025-10-22 11:33:15,439 - INFO - Saved filtered data to filtered_data/fake_data_removed_20251022_113315.json\n",
            "2025-10-22 11:33:15,439 - INFO - Filtering Statistics:\n",
            "2025-10-22 11:33:15,439 - INFO - Processed Files: 1\n",
            "2025-10-22 11:33:15,439 - INFO - Total Entries: 3\n",
            "2025-10-22 11:33:15,439 - INFO - Retained Entries: 0\n",
            "2025-10-22 11:33:15,439 - INFO - Filtered Entries: 3\n",
            "2025-10-22 11:33:15,439 - INFO - Retention Rate: 0.00%\n"
          ]
        }
      ],
      "source": [
        "!python CyberLLMInstruct/dataset_creation/2_data_filter.py --input-dir raw_data --output-dir filtered_data"
      ]
    },
    {
      "cell_type": "code",
      "execution_count": 14,
      "metadata": {
        "colab": {
          "base_uri": "https://localhost:8080/"
        },
        "id": "8HJZ61NVxN_S",
        "outputId": "9dfd6744-3578-48e6-8e94-742193b5f408"
      },
      "outputs": [
        {
          "output_type": "stream",
          "name": "stdout",
          "text": [
            "2025-10-22 11:33:16,242 - INFO - Processing file 1/1: fake_data_filtered_20251022_110424.json\n",
            "2025-10-22 11:33:16,242 - INFO - Processing entry 1/3 from fake_data_filtered_20251022_110424.json\n",
            "2025-10-22 11:33:16,242 - WARNING - Could not determine type for entry 1\n",
            "2025-10-22 11:33:16,242 - INFO - Processing entry 2/3 from fake_data_filtered_20251022_110424.json\n",
            "2025-10-22 11:33:27,371 - INFO - Generated 2 instruction-response pairs for entry 2\n",
            "2025-10-22 11:33:27,371 - INFO - Processing entry 3/3 from fake_data_filtered_20251022_110424.json\n",
            "2025-10-22 11:33:27,371 - WARNING - Could not determine type for entry 3\n",
            "2025-10-22 11:33:27,372 - INFO - Generated 2 pairs from fake_data_filtered_20251022_110424.json\n",
            "2025-10-22 11:33:27,372 - INFO - Saved consolidated dataset to structured_data/consolidated_cybersecurity_dataset_20251022_113327.json\n",
            "2025-10-22 11:33:27,372 - INFO - Structuring Statistics:\n",
            "2025-10-22 11:33:27,372 - INFO - Processed Files: 1\n",
            "2025-10-22 11:33:27,372 - INFO - Total Instruction-Response Pairs: 2\n"
          ]
        }
      ],
      "source": [
        "!python CyberLLMInstruct/dataset_creation/3_data_structurer.py --input-dir filtered_data --output-dir structured_data"
      ]
    },
    {
      "cell_type": "code",
      "execution_count": 15,
      "metadata": {
        "colab": {
          "base_uri": "https://localhost:8080/"
        },
        "id": "u_4iUctGxTHM",
        "outputId": "40faaa4f-e2ab-442a-aaef-cb76c0423e66"
      },
      "outputs": [
        {
          "output_type": "stream",
          "name": "stdout",
          "text": [
            "2025-10-22 11:33:27,678 - INFO - Processing structured_data/consolidated_cybersecurity_dataset_20251022_113327.json\n",
            "2025-10-22 11:33:27,679 - INFO - Classifying entry 1/2\n",
            "2025-10-22 11:33:28,246 - INFO - Classifying entry 2/2\n",
            "2025-10-22 11:33:29,010 - ERROR - Error parsing classification JSON: Extra data: line 5 column 1 (char 53) from response: {\n",
            "  \"domain\": \"web_security\",\n",
            "  \"confidence\": 0.95\n",
            "}\n",
            "{\n",
            "  \"domain\": \"attack_pattern_data\",\n",
            "  \"confidence\": 0.2\n",
            "}\n",
            "2025-10-22 11:33:29,011 - INFO - \n",
            "Classification Statistics:\n",
            "2025-10-22 11:33:29,011 - INFO - Processed Files: 1\n",
            "2025-10-22 11:33:29,011 - INFO - Total Entries: 2\n",
            "2025-10-22 11:33:29,011 - INFO - \n",
            "Domain Distribution:\n",
            "2025-10-22 11:33:29,011 - INFO - attack_pattern_analysis: 1 entries (50.0%)\n",
            "2025-10-22 11:33:29,011 - INFO - uncategorized: 1 entries (50.0%)\n"
          ]
        }
      ],
      "source": [
        "!python CyberLLMInstruct/dataset_creation/4_domain_classifier.py --input-dir structured_data --output-dir classified_data"
      ]
    },
    {
      "cell_type": "code",
      "execution_count": 16,
      "metadata": {
        "colab": {
          "base_uri": "https://localhost:8080/"
        },
        "id": "9kl8iDFyxojr",
        "outputId": "17603928-4991-474d-83e5-d1b04ac11b42"
      },
      "outputs": [
        {
          "output_type": "stream",
          "name": "stdout",
          "text": [
            "\u001b[?12l\u001b[?25h\u001b[6n\u001b[?2004h\u001b[?1l\u001b[?25l\u001b[0m\u001b[?7l\u001b[0m\u001b[J\u001b[0;38;5;67m?\u001b[0;1m Enter reviewer ID:\u001b[20D\u001b[21C\u001b[?7h\u001b[0m\u001b[?12l\u001b[?25h\u001b[21D\u001b[J\u001b[0m\u001b[?7h\u001b[?2004lWARNING: your terminal doesn't support cursor position requests (CPR).\n",
            "\u001b[?2004h\u001b[?25l\u001b[0m\u001b[?7l\u001b[0m\u001b[J\u001b[0;38;5;67m?\u001b[0;1m Enter reviewer ID:\u001b[20D\u001b[21C\u001b[?7h\u001b[0m\u001b[?12l\u001b[?25h\u001b[?25l\u001b[?7l\u001b[21D\u001b[0m\u001b[J\u001b[0;38;5;67m?\u001b[0;1m Enter reviewer ID: \u001b[0;38;5;214;1m1\u001b[22D\u001b[0m\n",
            "\u001b[J\u001b[?7h\u001b[0m\u001b[?12l\u001b[?25h\u001b[?2004l2025-10-22 11:34:41,425 - INFO - Processing domain_classified/consolidated_cybersecurity_dataset_20251022_113327_classified.json\n",
            "\u001b[33mExecutando em modo de revisão não-interativa.\u001b[0m\n",
            "2025-10-22 11:34:41,428 - INFO - Processando automaticamente a entrada 1/2\n",
            "2025-10-22 11:34:41,428 - INFO - Processando automaticamente a entrada 2/2\n",
            "2025-10-22 11:34:41,428 - INFO - Saved review statistics to reviewed_data/review_stats_20251022_113329.json\n",
            "2025-10-22 11:34:41,445 - INFO - Saved reviewed data to reviewed_data\n",
            "\u001b[3m    Review Session Report     \u001b[0m\n",
            "┏━━━━━━━━━━━━━━━━━━━┳━━━━━━━━┓\n",
            "┃\u001b[1m \u001b[0m\u001b[1mMetric           \u001b[0m\u001b[1m \u001b[0m┃\u001b[1m \u001b[0m\u001b[1mValue \u001b[0m\u001b[1m \u001b[0m┃\n",
            "┡━━━━━━━━━━━━━━━━━━━╇━━━━━━━━┩\n",
            "│\u001b[36m \u001b[0m\u001b[36mTotal Entries    \u001b[0m\u001b[36m \u001b[0m│\u001b[32m \u001b[0m\u001b[32m2     \u001b[0m\u001b[32m \u001b[0m│\n",
            "│\u001b[36m \u001b[0m\u001b[36mReviewed Entries \u001b[0m\u001b[36m \u001b[0m│\u001b[32m \u001b[0m\u001b[32m2     \u001b[0m\u001b[32m \u001b[0m│\n",
            "│\u001b[36m \u001b[0m\u001b[36mModified Entries \u001b[0m\u001b[36m \u001b[0m│\u001b[32m \u001b[0m\u001b[32m0     \u001b[0m\u001b[32m \u001b[0m│\n",
            "│\u001b[36m \u001b[0m\u001b[36mReview Progress  \u001b[0m\u001b[36m \u001b[0m│\u001b[32m \u001b[0m\u001b[32m100.0%\u001b[0m\u001b[32m \u001b[0m│\n",
            "│\u001b[36m \u001b[0m\u001b[36mModification Rate\u001b[0m\u001b[36m \u001b[0m│\u001b[32m \u001b[0m\u001b[32m0.0%  \u001b[0m\u001b[32m \u001b[0m│\n",
            "└───────────────────┴────────┘\n"
          ]
        }
      ],
      "source": [
        "!python CyberLLMInstruct/dataset_creation/5_manual_reviewer.py --input-dir classified_data --output-dir reviewed_data"
      ]
    },
    {
      "cell_type": "code",
      "execution_count": 17,
      "metadata": {
        "colab": {
          "base_uri": "https://localhost:8080/"
        },
        "id": "dtdFI01cxmmF",
        "outputId": "42ecff5c-d1ca-47c9-cef7-d1a96b373828"
      },
      "outputs": [
        {
          "output_type": "stream",
          "name": "stdout",
          "text": [
            "2025-10-22 11:34:42,265 - INFO - Skipping file: reviewed_data/consolidated_cybersecurity_dataset_20251022_113327_classified_reviewed_20251022_113441.csv\n",
            "2025-10-22 11:34:42,265 - INFO - Skipping file: reviewed_data/review_report_20251022_113329.txt\n",
            "2025-10-22 11:34:42,265 - INFO - Processing reviewed_data/consolidated_cybersecurity_dataset_20251022_113327_classified_reviewed_20251022_113441.json\n",
            "\u001b[2K\u001b[36mEnhancing entries for consolidated_cybersecurity_dataset_20251022_113327_cla…\u001b[0m \u001b[35m…\u001b[0m 2025-10-22 11:35:03,080 - ERROR - Error cleaning JSON response: Invalid \\escape: line 3 column 71 (char 202)\n",
            "\u001b[2K\u001b[36mEnhancing entries for consolidated_cybersecurity_dataset_20251022_113327_cla…\u001b[0m \u001b[35m…\u001b[0m \n",
            "\u001b[?25h2025-10-22 11:35:13,052 - INFO - Saved security-aligned data to security_aligned\n",
            "2025-10-22 11:35:13,052 - INFO - Skipping file: reviewed_data/review_report_20251022_110426.txt\n",
            "2025-10-22 11:35:13,052 - INFO - Skipping file: reviewed_data/review_stats_20251022_113329.json\n"
          ]
        }
      ],
      "source": [
        "!python CyberLLMInstruct/dataset_creation/6_security_aligner.py --model gemma:2b --ratio 0.2"
      ]
    },
    {
      "cell_type": "code",
      "execution_count": 18,
      "metadata": {
        "colab": {
          "base_uri": "https://localhost:8080/"
        },
        "id": "8przVYJ6yPPE",
        "outputId": "142c82bd-12a9-499d-e75d-f5f9fa244a4b"
      },
      "outputs": [
        {
          "output_type": "stream",
          "name": "stdout",
          "text": [
            "\u001b[?25l\r\u001b[2K\u001b[32m⠋\u001b[0m Processing files...\r\u001b[2K  Processing files...\n",
            "\u001b[?25h\r\u001b[1A\u001b[2K2025-10-22 11:35:14,510 - INFO - Saved final dataset to final_dataset/final_cybersecurity_dataset_20251022_113514.json\n",
            "\n",
            "\u001b[32mDataset Assembly Complete!\u001b[0m\n",
            "Total entries processed: \u001b[1;36m7\u001b[0m\n",
            "Valid entries: \u001b[1;36m4\u001b[0m\n",
            "Duplicate entries removed: \u001b[1;36m0\u001b[0m\n",
            "Invalid entries: \u001b[1;36m3\u001b[0m\n",
            "Number of categories: \u001b[1;36m2\u001b[0m\n"
          ]
        }
      ],
      "source": [
        "!python CyberLLMInstruct/dataset_creation/8_final_assembler.py --input-dir security_aligned --output-dir final_dataset\n"
      ]
    },
    {
      "cell_type": "markdown",
      "metadata": {
        "id": "8EsSl_k4H6ey"
      },
      "source": [
        "Terminado a parte do dataset, agora será a manipulação do modelo."
      ]
    },
    {
      "cell_type": "code",
      "execution_count": 19,
      "metadata": {
        "colab": {
          "base_uri": "https://localhost:8080/"
        },
        "id": "SsJYU_n-zdyQ",
        "outputId": "e4e1117b-fb4c-4a1a-dfd0-a042cfbd76d8"
      },
      "outputs": [
        {
          "output_type": "stream",
          "name": "stdout",
          "text": [
            "Requirement already satisfied: huggingface_hub in /usr/local/lib/python3.12/dist-packages (0.35.3)\n",
            "Requirement already satisfied: filelock in /usr/local/lib/python3.12/dist-packages (from huggingface_hub) (3.20.0)\n",
            "Requirement already satisfied: fsspec>=2023.5.0 in /usr/local/lib/python3.12/dist-packages (from huggingface_hub) (2025.3.0)\n",
            "Requirement already satisfied: packaging>=20.9 in /usr/local/lib/python3.12/dist-packages (from huggingface_hub) (25.0)\n",
            "Requirement already satisfied: pyyaml>=5.1 in /usr/local/lib/python3.12/dist-packages (from huggingface_hub) (6.0.3)\n",
            "Requirement already satisfied: requests in /usr/local/lib/python3.12/dist-packages (from huggingface_hub) (2.32.4)\n",
            "Requirement already satisfied: tqdm>=4.42.1 in /usr/local/lib/python3.12/dist-packages (from huggingface_hub) (4.67.1)\n",
            "Requirement already satisfied: typing-extensions>=3.7.4.3 in /usr/local/lib/python3.12/dist-packages (from huggingface_hub) (4.15.0)\n",
            "Requirement already satisfied: hf-xet<2.0.0,>=1.1.3 in /usr/local/lib/python3.12/dist-packages (from huggingface_hub) (1.1.10)\n",
            "Requirement already satisfied: charset_normalizer<4,>=2 in /usr/local/lib/python3.12/dist-packages (from requests->huggingface_hub) (3.4.4)\n",
            "Requirement already satisfied: idna<4,>=2.5 in /usr/local/lib/python3.12/dist-packages (from requests->huggingface_hub) (3.11)\n",
            "Requirement already satisfied: urllib3<3,>=1.21.1 in /usr/local/lib/python3.12/dist-packages (from requests->huggingface_hub) (2.5.0)\n",
            "Requirement already satisfied: certifi>=2017.4.17 in /usr/local/lib/python3.12/dist-packages (from requests->huggingface_hub) (2025.10.5)\n"
          ]
        }
      ],
      "source": [
        "!pip install huggingface_hub\n"
      ]
    },
    {
      "cell_type": "code",
      "execution_count": 20,
      "metadata": {
        "colab": {
          "base_uri": "https://localhost:8080/"
        },
        "id": "9SXPkPPIIKsK",
        "outputId": "67b0e845-6708-410f-e6f1-e076ee077e54"
      },
      "outputs": [
        {
          "output_type": "stream",
          "name": "stdout",
          "text": [
            "\u001b[33m⚠️  Warning: 'huggingface-cli login' is deprecated. Use 'hf auth login' instead.\u001b[0m\n",
            "\n",
            "    _|    _|  _|    _|    _|_|_|    _|_|_|  _|_|_|  _|      _|    _|_|_|      _|_|_|_|    _|_|      _|_|_|  _|_|_|_|\n",
            "    _|    _|  _|    _|  _|        _|          _|    _|_|    _|  _|            _|        _|    _|  _|        _|\n",
            "    _|_|_|_|  _|    _|  _|  _|_|  _|  _|_|    _|    _|  _|  _|  _|  _|_|      _|_|_|    _|_|_|_|  _|        _|_|_|\n",
            "    _|    _|  _|    _|  _|    _|  _|    _|    _|    _|    _|_|  _|    _|      _|        _|    _|  _|        _|\n",
            "    _|    _|    _|_|      _|_|_|    _|_|_|  _|_|_|  _|      _|    _|_|_|      _|        _|    _|    _|_|_|  _|_|_|_|\n",
            "\n",
            "    To log in, `huggingface_hub` requires a token generated from https://huggingface.co/settings/tokens .\n",
            "Enter your token (input will not be visible): \n",
            "Add token as git credential? (Y/n) n\n",
            "Token is valid (permission: read).\n",
            "The token `experimento` has been saved to /root/.cache/huggingface/stored_tokens\n",
            "Your token has been saved to /root/.cache/huggingface/token\n",
            "Login successful.\n",
            "The current active token is: `experimento`\n"
          ]
        }
      ],
      "source": [
        "!huggingface-cli login"
      ]
    },
    {
      "cell_type": "code",
      "execution_count": 38,
      "metadata": {
        "colab": {
          "base_uri": "https://localhost:8080/"
        },
        "id": "dys8lh7vIT62",
        "outputId": "003a5511-6f7d-476f-b106-0f924f967148"
      },
      "outputs": [
        {
          "output_type": "stream",
          "name": "stdout",
          "text": [
            "final_cybersecurity_dataset_20251022_113514.json\n"
          ]
        }
      ],
      "source": [
        "!ls final_dataset/"
      ]
    },
    {
      "cell_type": "code",
      "execution_count": 39,
      "metadata": {
        "colab": {
          "base_uri": "https://localhost:8080/"
        },
        "id": "bL-fStQ6IvUx",
        "outputId": "2aef72f0-7d73-4cd9-bc53-d43ac69bd260"
      },
      "outputs": [
        {
          "output_type": "stream",
          "name": "stdout",
          "text": [
            "tokenizer_config.json: 3.98kB [00:00, 17.3MB/s]\n",
            "tokenizer.model: 100% 500k/500k [00:00<00:00, 1.25MB/s]\n",
            "tokenizer.json: 1.84MB [00:00, 45.1MB/s]\n",
            "added_tokens.json: 100% 306/306 [00:00<00:00, 2.98MB/s]\n",
            "special_tokens_map.json: 100% 665/665 [00:00<00:00, 5.48MB/s]\n",
            "2025-10-22 11:43:09,525 - INFO - Loaded tokenizer for phi-3-mini\n",
            "2025-10-22 11:43:09,525 - INFO - Starting data preprocessing for phi-3-mini\n",
            "2025-10-22 11:43:09,525 - INFO - Loading dataset from final_dataset/final_cybersecurity_dataset_20251022_113514.json\n",
            "2025-10-22 11:43:09,525 - INFO - Loaded 4 examples\n",
            "Tokenizing data: 100% 4/4 [00:00<00:00, 1444.20it/s]\n",
            "2025-10-22 11:43:09,529 - INFO - Successfully tokenized 4 examples\n",
            "2025-10-22 11:43:09,575 - INFO - Split sizes - Train: 3, Val: 0, Test: 1\n",
            "2025-10-22 11:43:09,575 - INFO - Train dataset size: 3\n",
            "2025-10-22 11:43:09,575 - WARNING - Validation dataset is empty. Skipping.\n",
            "2025-10-22 11:43:09,575 - INFO - Test dataset size: 1\n",
            "Saving the dataset (1/1 shards): 100% 3/3 [00:00<00:00, 193.42 examples/s]\n",
            "Saving the dataset (1/1 shards): 100% 1/1 [00:00<00:00, 287.99 examples/s]\n",
            "2025-10-22 11:43:09,611 - INFO - Saved processed datasets to processed_data/phi-3-mini\n",
            "2025-10-22 11:43:09,611 - INFO - Data preprocessing completed successfully\n"
          ]
        }
      ],
      "source": [
        "!python CyberLLMInstruct/finetune/data_prep.py \\\n",
        "    --model_name \"phi-3-mini\" \\\n",
        "    --input_path \"final_dataset/final_cybersecurity_dataset_20251022_113514.json\" \\\n",
        "    --output_dir \"processed_data\""
      ]
    },
    {
      "cell_type": "code",
      "execution_count": 40,
      "metadata": {
        "colab": {
          "base_uri": "https://localhost:8080/"
        },
        "id": "4O2TQOk5J64t",
        "outputId": "335f1be5-a393-4c77-90e5-5c7a76a51c9a"
      },
      "outputs": [
        {
          "output_type": "stream",
          "name": "stdout",
          "text": [
            "2025-10-22 11:43:43.711341: E external/local_xla/xla/stream_executor/cuda/cuda_fft.cc:467] Unable to register cuFFT factory: Attempting to register factory for plugin cuFFT when one has already been registered\n",
            "WARNING: All log messages before absl::InitializeLog() is called are written to STDERR\n",
            "E0000 00:00:1761133423.732051   11911 cuda_dnn.cc:8579] Unable to register cuDNN factory: Attempting to register factory for plugin cuDNN when one has already been registered\n",
            "E0000 00:00:1761133423.738154   11911 cuda_blas.cc:1407] Unable to register cuBLAS factory: Attempting to register factory for plugin cuBLAS when one has already been registered\n",
            "W0000 00:00:1761133423.753271   11911 computation_placer.cc:177] computation placer already registered. Please check linkage and avoid linking the same target more than once.\n",
            "W0000 00:00:1761133423.753297   11911 computation_placer.cc:177] computation placer already registered. Please check linkage and avoid linking the same target more than once.\n",
            "W0000 00:00:1761133423.753303   11911 computation_placer.cc:177] computation placer already registered. Please check linkage and avoid linking the same target more than once.\n",
            "W0000 00:00:1761133423.753307   11911 computation_placer.cc:177] computation placer already registered. Please check linkage and avoid linking the same target more than once.\n",
            "2025-10-22 11:43:43.758223: I tensorflow/core/platform/cpu_feature_guard.cc:210] This TensorFlow binary is optimized to use available CPU instructions in performance-critical operations.\n",
            "To enable the following instructions: AVX2 FMA, in other operations, rebuild TensorFlow with the appropriate compiler flags.\n",
            "\u001b[34m\u001b[1mwandb\u001b[0m: (1) Create a W&B account\n",
            "\u001b[34m\u001b[1mwandb\u001b[0m: (2) Use an existing W&B account\n",
            "\u001b[34m\u001b[1mwandb\u001b[0m: (3) Don't visualize my results\n",
            "\u001b[34m\u001b[1mwandb\u001b[0m: Enter your choice: 3\n",
            "\u001b[34m\u001b[1mwandb\u001b[0m: You chose \"Don't visualize my results\"\n",
            "\u001b[34m\u001b[1mwandb\u001b[0m: Tracking run with wandb version 0.22.2\n",
            "\u001b[34m\u001b[1mwandb\u001b[0m: W&B syncing is set to \u001b[1m`offline`\u001b[0m in this directory. Run \u001b[1m`wandb online`\u001b[0m or set \u001b[1mWANDB_MODE=online\u001b[0m to enable cloud syncing.\n",
            "\u001b[34m\u001b[1mwandb\u001b[0m: Run data is saved locally in \u001b[35m\u001b[1m/content/wandb/offline-run-20251022_114518-y2j8u4jx\u001b[0m\n",
            "config.json: 3.45kB [00:00, 5.35MB/s]\n",
            "configuration_phi3.py: 11.2kB [00:00, 16.0MB/s]\n",
            "A new version of the following files was downloaded from https://huggingface.co/microsoft/Phi-3.5-mini-instruct:\n",
            "- configuration_phi3.py\n",
            ". Make sure to double-check they do not contain any added malicious code. To avoid downloading new versions of the code file, you can pin a revision.\n",
            "`torch_dtype` is deprecated! Use `dtype` instead!\n",
            "modeling_phi3.py: 73.8kB [00:00, 76.3MB/s]\n",
            "A new version of the following files was downloaded from https://huggingface.co/microsoft/Phi-3.5-mini-instruct:\n",
            "- modeling_phi3.py\n",
            ". Make sure to double-check they do not contain any added malicious code. To avoid downloading new versions of the code file, you can pin a revision.\n",
            "WARNING:transformers_modules.microsoft.Phi_hyphen_3_dot_5_hyphen_mini_hyphen_instruct.3145e03a9fd4cdd7cd953c34d9bbf7ad606122ca.modeling_phi3:`flash-attention` package not found, consider installing for better performance: No module named 'flash_attn'.\n",
            "WARNING:transformers_modules.microsoft.Phi_hyphen_3_dot_5_hyphen_mini_hyphen_instruct.3145e03a9fd4cdd7cd953c34d9bbf7ad606122ca.modeling_phi3:Current `flash-attention` does not support `window_size`. Either upgrade or use `attn_implementation='eager'`.\n",
            "model.safetensors.index.json: 16.3kB [00:00, 21.4MB/s]\n",
            "Fetching 2 files:   0% 0/2 [00:00<?, ?it/s]\n",
            "model-00002-of-00002.safetensors:   0% 0.00/2.67G [00:00<?, ?B/s]\u001b[A\n",
            "\n",
            "model-00001-of-00002.safetensors:   0% 0.00/4.97G [00:00<?, ?B/s]\u001b[A\u001b[A\n",
            "\n",
            "model-00001-of-00002.safetensors:   0% 2.10M/4.97G [00:01<56:15, 1.47MB/s]\u001b[A\u001b[A\n",
            "\n",
            "model-00001-of-00002.safetensors:   0% 13.4M/4.97G [00:06<37:08, 2.23MB/s]\u001b[A\u001b[A\n",
            "model-00002-of-00002.safetensors:   1% 16.5M/2.67G [00:06<18:21, 2.41MB/s]\u001b[A\n",
            "\n",
            "model-00001-of-00002.safetensors:   1% 34.7M/4.97G [00:06<12:50, 6.40MB/s]\u001b[A\u001b[A\n",
            "model-00002-of-00002.safetensors:   1% 35.3M/2.67G [00:07<07:39, 5.73MB/s]\u001b[A\n",
            "\n",
            "model-00001-of-00002.safetensors:   2% 78.0M/4.97G [00:07<04:52, 16.7MB/s]\u001b[A\u001b[A\n",
            "\n",
            "model-00001-of-00002.safetensors:   2% 96.8M/4.97G [00:07<04:01, 20.2MB/s]\u001b[A\u001b[A\n",
            "model-00002-of-00002.safetensors:   2% 62.4M/2.67G [00:08<04:21, 9.99MB/s]\u001b[A\n",
            "\n",
            "model-00001-of-00002.safetensors:   2% 121M/4.97G [00:08<03:47, 21.3MB/s] \u001b[A\u001b[A\n",
            "model-00002-of-00002.safetensors:   4% 94.1M/2.67G [00:09<02:42, 15.8MB/s]\u001b[A\n",
            "\n",
            "model-00001-of-00002.safetensors:   3% 155M/4.97G [00:12<06:10, 13.0MB/s]\u001b[A\u001b[A\n",
            "model-00002-of-00002.safetensors:   5% 126M/2.67G [00:12<03:38, 11.7MB/s] \u001b[A\n",
            "\n",
            "model-00001-of-00002.safetensors:   4% 191M/4.97G [00:13<03:59, 20.0MB/s]\u001b[A\u001b[A\n",
            "model-00002-of-00002.safetensors:   5% 139M/2.67G [00:13<03:13, 13.1MB/s]\u001b[A\n",
            "\n",
            "model-00001-of-00002.safetensors:   4% 223M/4.97G [00:13<03:03, 25.9MB/s]\u001b[A\u001b[A\n",
            "model-00002-of-00002.safetensors:   7% 178M/2.67G [00:13<01:57, 21.3MB/s]\u001b[A\n",
            "\n",
            "model-00001-of-00002.safetensors:   5% 260M/4.97G [00:14<02:20, 33.7MB/s]\u001b[A\u001b[A\n",
            "\n",
            "model-00001-of-00002.safetensors:   6% 278M/4.97G [00:14<02:08, 36.6MB/s]\u001b[A\u001b[A\n",
            "model-00002-of-00002.safetensors:   8% 215M/2.67G [00:14<01:37, 25.3MB/s]\u001b[A\n",
            "\n",
            "model-00001-of-00002.safetensors:   7% 323M/4.97G [00:15<02:10, 35.5MB/s]\u001b[A\u001b[A\n",
            "\n",
            "model-00001-of-00002.safetensors:   7% 355M/4.97G [00:16<02:06, 36.5MB/s]\u001b[A\u001b[A\n",
            "model-00002-of-00002.safetensors:  10% 265M/2.67G [00:17<01:36, 24.8MB/s]\u001b[A\n",
            "\n",
            "model-00001-of-00002.safetensors:   8% 408M/4.97G [00:17<01:43, 44.2MB/s]\u001b[A\u001b[A\n",
            "model-00002-of-00002.safetensors:  12% 313M/2.67G [00:17<01:14, 31.8MB/s]\u001b[A\n",
            "\n",
            "model-00001-of-00002.safetensors:  10% 475M/4.97G [00:17<01:11, 63.2MB/s]\u001b[A\u001b[A\n",
            "model-00002-of-00002.safetensors:  12% 332M/2.67G [00:19<01:30, 25.9MB/s]\u001b[A\n",
            "\n",
            "model-00001-of-00002.safetensors:  11% 542M/4.97G [00:19<01:26, 51.1MB/s]\u001b[A\u001b[A\n",
            "model-00002-of-00002.safetensors:  15% 399M/2.67G [00:20<01:02, 36.4MB/s]\u001b[A\n",
            "\n",
            "model-00001-of-00002.safetensors:  12% 609M/4.97G [00:20<01:19, 54.9MB/s]\u001b[A\u001b[A\n",
            "model-00002-of-00002.safetensors:  20% 529M/2.67G [00:21<00:38, 55.3MB/s]\u001b[A\n",
            "model-00002-of-00002.safetensors:  22% 596M/2.67G [00:22<00:35, 59.2MB/s]\u001b[A\n",
            "\n",
            "model-00001-of-00002.safetensors:  13% 628M/4.97G [00:22<02:01, 35.9MB/s]\u001b[A\u001b[A\n",
            "model-00002-of-00002.safetensors:  25% 663M/2.67G [00:22<00:25, 77.4MB/s]\u001b[A\n",
            "\n",
            "model-00001-of-00002.safetensors:  13% 659M/4.97G [00:22<01:47, 40.0MB/s]\u001b[A\u001b[A\n",
            "\n",
            "model-00001-of-00002.safetensors:  15% 727M/4.97G [00:23<01:24, 50.0MB/s]\u001b[A\u001b[A\n",
            "model-00002-of-00002.safetensors:  27% 724M/2.67G [00:24<00:32, 59.5MB/s]\u001b[A\n",
            "\n",
            "model-00001-of-00002.safetensors:  18% 877M/4.97G [00:26<01:08, 59.6MB/s]\u001b[A\u001b[A\n",
            "model-00002-of-00002.safetensors:  30% 791M/2.67G [00:26<00:39, 47.4MB/s]\u001b[A\n",
            "model-00002-of-00002.safetensors:  32% 858M/2.67G [00:29<00:50, 35.9MB/s]\u001b[A\n",
            "\n",
            "model-00001-of-00002.safetensors:  19% 944M/4.97G [00:31<02:11, 30.6MB/s]\u001b[A\u001b[A\n",
            "\n",
            "model-00001-of-00002.safetensors:  20% 1.01G/4.97G [00:33<02:13, 29.6MB/s]\u001b[A\u001b[A\n",
            "\n",
            "model-00001-of-00002.safetensors:  22% 1.08G/4.97G [00:35<01:59, 32.6MB/s]\u001b[A\u001b[A\n",
            "model-00002-of-00002.safetensors:  35% 930M/2.67G [00:37<01:35, 18.3MB/s]\u001b[A\n",
            "\n",
            "model-00001-of-00002.safetensors:  23% 1.15G/4.97G [00:37<02:04, 30.8MB/s]\u001b[A\u001b[A\n",
            "model-00002-of-00002.safetensors:  38% 1.01G/2.67G [00:38<01:04, 25.6MB/s]\u001b[A\n",
            "\n",
            "model-00001-of-00002.safetensors:  24% 1.21G/4.97G [00:38<01:40, 37.3MB/s]\u001b[A\u001b[A\n",
            "model-00002-of-00002.safetensors:  40% 1.08G/2.67G [00:39<00:52, 30.0MB/s]\u001b[A\n",
            "\n",
            "model-00001-of-00002.safetensors:  25% 1.27G/4.97G [00:39<01:32, 40.2MB/s]\u001b[A\u001b[A\n",
            "model-00002-of-00002.safetensors:  43% 1.15G/2.67G [00:40<00:41, 36.4MB/s]\u001b[A\n",
            "model-00002-of-00002.safetensors:  45% 1.21G/2.67G [00:41<00:33, 44.1MB/s]\u001b[A\n",
            "model-00002-of-00002.safetensors:  51% 1.35G/2.67G [00:41<00:20, 65.9MB/s]\u001b[A\n",
            "model-00002-of-00002.safetensors:  53% 1.42G/2.67G [00:42<00:18, 68.0MB/s]\u001b[A\n",
            "\n",
            "model-00001-of-00002.safetensors:  27% 1.33G/4.97G [00:43<02:13, 27.3MB/s]\u001b[A\u001b[A\n",
            "\n",
            "model-00001-of-00002.safetensors:  29% 1.46G/4.97G [00:44<01:19, 44.4MB/s]\u001b[A\u001b[A\n",
            "\n",
            "model-00001-of-00002.safetensors:  32% 1.60G/4.97G [00:45<00:52, 64.0MB/s]\u001b[A\u001b[A\n",
            "\n",
            "model-00001-of-00002.safetensors:  34% 1.71G/4.97G [00:46<00:51, 64.0MB/s]\u001b[A\u001b[A\n",
            "model-00002-of-00002.safetensors:  55% 1.48G/2.67G [00:47<00:33, 35.1MB/s]\u001b[A\n",
            "model-00002-of-00002.safetensors:  56% 1.49G/2.67G [00:47<00:33, 35.4MB/s]\u001b[A\n",
            "\n",
            "model-00001-of-00002.safetensors:  36% 1.79G/4.97G [00:47<00:45, 70.0MB/s]\u001b[A\u001b[A\n",
            "model-00002-of-00002.safetensors:  57% 1.52G/2.67G [00:48<00:31, 36.5MB/s]\u001b[A\n",
            "\n",
            "model-00001-of-00002.safetensors:  37% 1.86G/4.97G [00:48<00:37, 83.2MB/s]\u001b[A\u001b[A\n",
            "model-00002-of-00002.safetensors:  57% 1.52G/2.67G [00:48<00:32, 34.8MB/s]\u001b[A\n",
            "\n",
            "model-00001-of-00002.safetensors:  39% 1.93G/4.97G [00:48<00:35, 86.0MB/s]\u001b[A\u001b[A\n",
            "\n",
            "model-00001-of-00002.safetensors:  39% 1.95G/4.97G [00:51<01:13, 41.4MB/s]\u001b[A\u001b[A\n",
            "\n",
            "model-00001-of-00002.safetensors:  40% 1.99G/4.97G [00:52<01:01, 48.5MB/s]\u001b[A\u001b[A\n",
            "model-00002-of-00002.safetensors:  58% 1.55G/2.67G [00:52<01:04, 17.3MB/s]\u001b[A\n",
            "model-00002-of-00002.safetensors:  59% 1.58G/2.67G [00:52<00:43, 25.0MB/s]\u001b[A\n",
            "\n",
            "model-00001-of-00002.safetensors:  40% 2.00G/4.97G [00:52<01:05, 45.6MB/s]\u001b[A\u001b[A\n",
            "\n",
            "model-00001-of-00002.safetensors:  42% 2.07G/4.97G [00:53<00:49, 58.5MB/s]\u001b[A\u001b[A\n",
            "model-00002-of-00002.safetensors:  61% 1.62G/2.67G [00:53<00:37, 27.9MB/s]\u001b[A\n",
            "\n",
            "model-00001-of-00002.safetensors:  42% 2.08G/4.97G [00:53<00:50, 56.8MB/s]\u001b[A\u001b[A\n",
            "model-00002-of-00002.safetensors:  61% 1.64G/2.67G [00:57<01:17, 13.3MB/s]\u001b[A\n",
            "\n",
            "model-00001-of-00002.safetensors:  43% 2.15G/4.97G [00:57<01:48, 26.0MB/s]\u001b[A\u001b[A\n",
            "\n",
            "model-00001-of-00002.safetensors:  44% 2.17G/4.97G [00:58<01:35, 29.4MB/s]\u001b[A\u001b[A\n",
            "\n",
            "model-00001-of-00002.safetensors:  44% 2.20G/4.97G [00:58<01:10, 39.4MB/s]\u001b[A\u001b[A\n",
            "model-00002-of-00002.safetensors:  62% 1.66G/2.67G [00:58<01:09, 14.6MB/s]\u001b[A\n",
            "model-00002-of-00002.safetensors:  63% 1.68G/2.67G [01:02<01:25, 11.5MB/s]\u001b[A\n",
            "\n",
            "model-00001-of-00002.safetensors:  46% 2.28G/4.97G [01:06<02:47, 16.1MB/s]\u001b[A\u001b[A\n",
            "model-00002-of-00002.safetensors:  66% 1.75G/2.67G [01:06<01:07, 13.6MB/s]\u001b[A\n",
            "\n",
            "model-00001-of-00002.safetensors:  46% 2.30G/4.97G [01:06<02:27, 18.1MB/s]\u001b[A\u001b[A\n",
            "model-00002-of-00002.safetensors:  66% 1.76G/2.67G [01:06<00:59, 15.3MB/s]\u001b[A\n",
            "\n",
            "model-00001-of-00002.safetensors:  47% 2.31G/4.97G [01:06<02:04, 21.4MB/s]\u001b[A\u001b[A\n",
            "\n",
            "model-00001-of-00002.safetensors:  47% 2.33G/4.97G [01:07<02:01, 21.7MB/s]\u001b[A\u001b[A\n",
            "model-00002-of-00002.safetensors:  69% 1.83G/2.67G [01:07<00:35, 23.7MB/s]\u001b[A\n",
            "model-00002-of-00002.safetensors:  70% 1.86G/2.67G [01:12<00:56, 14.3MB/s]\u001b[A\n",
            "\n",
            "model-00001-of-00002.safetensors:  48% 2.37G/4.97G [01:12<03:18, 13.1MB/s]\u001b[A\u001b[A\n",
            "\n",
            "model-00001-of-00002.safetensors:  48% 2.39G/4.97G [01:12<02:42, 15.9MB/s]\u001b[A\u001b[A\n",
            "\n",
            "model-00001-of-00002.safetensors:  49% 2.42G/4.97G [01:12<02:04, 20.6MB/s]\u001b[A\u001b[A\n",
            "\n",
            "model-00001-of-00002.safetensors:  49% 2.44G/4.97G [01:12<01:39, 25.5MB/s]\u001b[A\u001b[A\n",
            "\n",
            "model-00001-of-00002.safetensors:  49% 2.46G/4.97G [01:13<01:16, 32.9MB/s]\u001b[A\u001b[A\n",
            "\n",
            "model-00001-of-00002.safetensors:  50% 2.48G/4.97G [01:13<01:08, 36.2MB/s]\u001b[A\u001b[A\n",
            "\n",
            "model-00001-of-00002.safetensors:  50% 2.50G/4.97G [01:14<01:08, 35.9MB/s]\u001b[A\u001b[A\n",
            "\n",
            "model-00001-of-00002.safetensors:  51% 2.51G/4.97G [01:16<02:15, 18.2MB/s]\u001b[A\u001b[A\n",
            "\n",
            "model-00001-of-00002.safetensors:  51% 2.53G/4.97G [01:16<01:56, 21.0MB/s]\u001b[A\u001b[A\n",
            "\n",
            "model-00001-of-00002.safetensors:  52% 2.57G/4.97G [01:17<01:15, 31.9MB/s]\u001b[A\u001b[A\n",
            "model-00002-of-00002.safetensors:  72% 1.93G/2.67G [01:18<00:57, 12.9MB/s]\u001b[A\n",
            "\n",
            "model-00001-of-00002.safetensors:  52% 2.59G/4.97G [01:18<01:32, 25.7MB/s]\u001b[A\u001b[A\n",
            "\n",
            "model-00001-of-00002.safetensors:  53% 2.65G/4.97G [01:18<00:44, 52.5MB/s]\u001b[A\u001b[A\n",
            "\n",
            "model-00001-of-00002.safetensors:  54% 2.67G/4.97G [01:18<00:39, 58.3MB/s]\u001b[A\u001b[A\n",
            "model-00002-of-00002.safetensors:  74% 1.96G/2.67G [01:19<00:46, 15.3MB/s]\u001b[A\n",
            "\n",
            "model-00001-of-00002.safetensors:  54% 2.69G/4.97G [01:19<00:50, 45.0MB/s]\u001b[A\u001b[A\n",
            "\n",
            "model-00001-of-00002.safetensors:  55% 2.72G/4.97G [01:19<00:39, 56.7MB/s]\u001b[A\u001b[A\n",
            "\n",
            "model-00001-of-00002.safetensors:  56% 2.77G/4.97G [01:22<01:10, 31.2MB/s]\u001b[A\u001b[A\n",
            "model-00002-of-00002.safetensors:  76% 2.03G/2.67G [01:22<00:38, 16.8MB/s]\u001b[A\n",
            "model-00002-of-00002.safetensors:  79% 2.10G/2.67G [01:23<00:23, 23.9MB/s]\u001b[A\n",
            "\n",
            "model-00001-of-00002.safetensors:  56% 2.79G/4.97G [01:23<01:15, 28.9MB/s]\u001b[A\u001b[A\n",
            "\n",
            "model-00001-of-00002.safetensors:  56% 2.80G/4.97G [01:23<01:09, 31.4MB/s]\u001b[A\u001b[A\n",
            "\n",
            "model-00001-of-00002.safetensors:  57% 2.82G/4.97G [01:23<00:58, 36.7MB/s]\u001b[A\u001b[A\n",
            "\n",
            "model-00001-of-00002.safetensors:  57% 2.86G/4.97G [01:23<00:38, 54.4MB/s]\u001b[A\u001b[A\n",
            "\n",
            "model-00001-of-00002.safetensors:  58% 2.87G/4.97G [01:24<00:34, 61.1MB/s]\u001b[A\u001b[A\n",
            "\n",
            "model-00001-of-00002.safetensors:  58% 2.89G/4.97G [01:24<00:30, 67.9MB/s]\u001b[A\u001b[A\n",
            "\n",
            "model-00001-of-00002.safetensors:  59% 2.91G/4.97G [01:24<00:26, 78.2MB/s]\u001b[A\u001b[A\n",
            "\n",
            "model-00001-of-00002.safetensors:  59% 2.95G/4.97G [01:24<00:27, 74.5MB/s]\u001b[A\u001b[A\n",
            "\n",
            "model-00001-of-00002.safetensors:  60% 2.96G/4.97G [01:28<02:03, 16.3MB/s]\u001b[A\u001b[A\n",
            "model-00002-of-00002.safetensors:  81% 2.16G/2.67G [01:28<00:27, 18.2MB/s]\u001b[A\n",
            "model-00002-of-00002.safetensors:  83% 2.21G/2.67G [01:29<00:19, 22.9MB/s]\u001b[A\n",
            "\n",
            "model-00001-of-00002.safetensors:  60% 2.97G/4.97G [01:29<01:57, 17.0MB/s]\u001b[A\u001b[A\n",
            "\n",
            "model-00001-of-00002.safetensors:  60% 2.99G/4.97G [01:29<01:38, 20.2MB/s]\u001b[A\u001b[A\n",
            "\n",
            "model-00001-of-00002.safetensors:  61% 3.03G/4.97G [01:29<00:49, 39.0MB/s]\u001b[A\u001b[A\n",
            "\n",
            "model-00001-of-00002.safetensors:  61% 3.05G/4.97G [01:29<00:43, 44.5MB/s]\u001b[A\u001b[A\n",
            "\n",
            "model-00001-of-00002.safetensors:  62% 3.07G/4.97G [01:32<01:45, 18.0MB/s]\u001b[A\u001b[A\n",
            "model-00002-of-00002.safetensors:  85% 2.28G/2.67G [01:33<00:19, 19.7MB/s]\u001b[A\n",
            "model-00002-of-00002.safetensors:  88% 2.35G/2.67G [01:34<00:11, 27.0MB/s]\u001b[A\n",
            "\n",
            "model-00001-of-00002.safetensors:  62% 3.10G/4.97G [01:34<01:35, 19.5MB/s]\u001b[A\u001b[A\n",
            "\n",
            "model-00001-of-00002.safetensors:  63% 3.12G/4.97G [01:34<01:14, 24.8MB/s]\u001b[A\u001b[A\n",
            "\n",
            "model-00001-of-00002.safetensors:  63% 3.13G/4.97G [01:34<01:14, 24.8MB/s]\u001b[A\u001b[A\n",
            "model-00002-of-00002.safetensors:  90% 2.41G/2.67G [01:34<00:07, 35.0MB/s]\u001b[A\n",
            "\n",
            "model-00001-of-00002.safetensors:  64% 3.17G/4.97G [01:35<00:52, 34.5MB/s]\u001b[A\u001b[A\n",
            "\n",
            "model-00001-of-00002.safetensors:  64% 3.20G/4.97G [01:35<00:39, 45.4MB/s]\u001b[A\u001b[A\n",
            "\n",
            "model-00001-of-00002.safetensors:  65% 3.23G/4.97G [01:35<00:30, 57.1MB/s]\u001b[A\u001b[A\n",
            "\n",
            "model-00001-of-00002.safetensors:  66% 3.26G/4.97G [01:36<00:28, 60.4MB/s]\u001b[A\u001b[A\n",
            "model-00002-of-00002.safetensors:  93% 2.48G/2.67G [01:36<00:05, 37.1MB/s]\u001b[A\n",
            "\n",
            "model-00001-of-00002.safetensors:  66% 3.28G/4.97G [01:36<00:31, 53.8MB/s]\u001b[A\u001b[A\n",
            "\n",
            "model-00001-of-00002.safetensors:  67% 3.35G/4.97G [01:37<00:18, 85.8MB/s]\u001b[A\u001b[A\n",
            "\n",
            "model-00001-of-00002.safetensors:  68% 3.40G/4.97G [01:37<00:19, 80.5MB/s]\u001b[A\u001b[A\n",
            "model-00002-of-00002.safetensors:  95% 2.55G/2.67G [01:38<00:03, 37.9MB/s]\u001b[A\n",
            "model-00002-of-00002.safetensors:  97% 2.60G/2.67G [01:38<00:01, 45.7MB/s]\u001b[A\n",
            "\n",
            "model-00001-of-00002.safetensors:  69% 3.42G/4.97G [01:38<00:29, 52.5MB/s]\u001b[A\u001b[A\n",
            "\n",
            "model-00001-of-00002.safetensors:  70% 3.49G/4.97G [01:39<00:23, 64.2MB/s]\u001b[A\u001b[A\n",
            "\n",
            "model-00001-of-00002.safetensors:  72% 3.56G/4.97G [01:45<00:57, 24.6MB/s]\u001b[A\u001b[A\n",
            "\n",
            "model-00001-of-00002.safetensors:  73% 3.63G/4.97G [01:49<01:04, 21.0MB/s]\u001b[A\u001b[A\n",
            "\n",
            "model-00001-of-00002.safetensors:  75% 3.73G/4.97G [01:49<00:36, 34.1MB/s]\u001b[A\u001b[A\n",
            "model-00002-of-00002.safetensors:  97% 2.60G/2.67G [01:52<00:01, 45.7MB/s]\u001b[A\n",
            "\n",
            "model-00001-of-00002.safetensors:  76% 3.79G/4.97G [01:55<00:54, 21.6MB/s]\u001b[A\u001b[A\n",
            "\n",
            "model-00001-of-00002.safetensors:  77% 3.85G/4.97G [01:59<00:57, 19.4MB/s]\u001b[A\u001b[A\n",
            "\n",
            "model-00001-of-00002.safetensors:  79% 3.92G/4.97G [01:59<00:38, 27.1MB/s]\u001b[A\u001b[A\n",
            "\n",
            "model-00001-of-00002.safetensors:  80% 3.96G/4.97G [01:59<00:30, 33.5MB/s]\u001b[A\u001b[A\n",
            "\n",
            "model-00001-of-00002.safetensors:  80% 3.98G/4.97G [01:59<00:26, 38.0MB/s]\u001b[A\u001b[A\n",
            "\n",
            "model-00001-of-00002.safetensors:  81% 4.05G/4.97G [02:00<00:19, 48.4MB/s]\u001b[A\u001b[A\n",
            "\n",
            "model-00001-of-00002.safetensors:  83% 4.12G/4.97G [02:01<00:13, 63.8MB/s]\u001b[A\u001b[A\n",
            "\n",
            "model-00001-of-00002.safetensors:  84% 4.17G/4.97G [02:01<00:11, 69.9MB/s]\u001b[A\u001b[A\n",
            "\n",
            "model-00001-of-00002.safetensors:  85% 4.24G/4.97G [02:02<00:09, 81.6MB/s]\u001b[A\u001b[A\n",
            "model-00002-of-00002.safetensors: 100% 2.67G/2.67G [02:02<00:00, 21.8MB/s]\n",
            "\n",
            "\n",
            "model-00001-of-00002.safetensors:  87% 4.30G/4.97G [02:02<00:08, 83.4MB/s]\u001b[A\u001b[A\n",
            "\n",
            "model-00001-of-00002.safetensors:  88% 4.37G/4.97G [02:04<00:08, 72.4MB/s]\u001b[A\u001b[A\n",
            "\n",
            "model-00001-of-00002.safetensors:  89% 4.44G/4.97G [02:04<00:05, 96.1MB/s]\u001b[A\u001b[A\n",
            "\n",
            "model-00001-of-00002.safetensors:  91% 4.50G/4.97G [02:05<00:05, 90.6MB/s]\u001b[A\u001b[A\n",
            "\n",
            "model-00001-of-00002.safetensors:  92% 4.57G/4.97G [02:05<00:03, 101MB/s] \u001b[A\u001b[A\n",
            "\n",
            "model-00001-of-00002.safetensors:  93% 4.64G/4.97G [02:05<00:02, 122MB/s]\u001b[A\u001b[A\n",
            "\n",
            "model-00001-of-00002.safetensors:  95% 4.71G/4.97G [02:06<00:02, 112MB/s]\u001b[A\u001b[A\n",
            "\n",
            "model-00001-of-00002.safetensors:  96% 4.77G/4.97G [02:11<00:05, 34.6MB/s]\u001b[A\u001b[A\n",
            "\n",
            "model-00001-of-00002.safetensors:  97% 4.84G/4.97G [02:13<00:03, 34.5MB/s]\u001b[A\u001b[A\n",
            "\n",
            "model-00001-of-00002.safetensors:  99% 4.91G/4.97G [02:16<00:02, 30.8MB/s]\u001b[A\u001b[A\n",
            "\n",
            "model-00001-of-00002.safetensors: 100% 4.97G/4.97G [02:16<00:00, 36.4MB/s]\n",
            "Fetching 2 files: 100% 2/2 [02:16<00:00, 68.44s/it] \n",
            "Loading checkpoint shards: 100% 2/2 [00:38<00:00, 19.29s/it]\n",
            "generation_config.json: 100% 195/195 [00:00<00:00, 342kB/s]\n",
            "trainable params: 1,572,864 || all params: 3,822,652,416 || trainable%: 0.0411\n",
            "/content/CyberLLMInstruct/finetune/train.py:249: FutureWarning: `tokenizer` is deprecated and will be removed in version 5.0.0 for `Trainer.__init__`. Use `processing_class` instead.\n",
            "  trainer = Trainer(\n",
            "  0% 0/3 [00:00<?, ?it/s]WARNING:transformers_modules.microsoft.Phi_hyphen_3_dot_5_hyphen_mini_hyphen_instruct.3145e03a9fd4cdd7cd953c34d9bbf7ad606122ca.modeling_phi3:`use_cache=True` is incompatible with gradient checkpointing. Setting `use_cache=False`...\n",
            "/usr/local/lib/python3.12/dist-packages/torch/_dynamo/eval_frame.py:929: UserWarning: torch.utils.checkpoint: the use_reentrant parameter should be passed explicitly. In version 2.5 we will raise an exception if use_reentrant is not passed. use_reentrant=False is recommended, but if you need to preserve the current default behavior, you can pass use_reentrant=True. Refer to docs for more details on the differences between the two variants.\n",
            "  return fn(*args, **kwargs)\n",
            "WARNING:transformers_modules.microsoft.Phi_hyphen_3_dot_5_hyphen_mini_hyphen_instruct.3145e03a9fd4cdd7cd953c34d9bbf7ad606122ca.modeling_phi3:You are not running the flash-attention implementation, expect numerical differences.\n",
            "/usr/local/lib/python3.12/dist-packages/bitsandbytes/autograd/_functions.py:181: UserWarning: MatMul8bitLt: inputs will be cast from torch.float32 to float16 during quantization\n",
            "  warnings.warn(f\"MatMul8bitLt: inputs will be cast from {A.dtype} to float16 during quantization\")\n",
            "{'train_runtime': 12.0063, 'train_samples_per_second': 0.75, 'train_steps_per_second': 0.25, 'train_loss': 1.7961619695027669, 'epoch': 3.0}\n",
            "100% 3/3 [00:11<00:00,  4.00s/it]\n",
            "***** train metrics *****\n",
            "  epoch                    =        3.0\n",
            "  total_flos               =    59559GF\n",
            "  train_loss               =     1.7962\n",
            "  train_runtime            = 0:00:12.00\n",
            "  train_samples_per_second =       0.75\n",
            "  train_steps_per_second   =       0.25\n",
            "\u001b[34m\u001b[1mwandb\u001b[0m: \n",
            "\u001b[34m\u001b[1mwandb\u001b[0m: Run history:\n",
            "\u001b[34m\u001b[1mwandb\u001b[0m:       train/epoch ▁\n",
            "\u001b[34m\u001b[1mwandb\u001b[0m: train/global_step ▁\n",
            "\u001b[34m\u001b[1mwandb\u001b[0m: \n",
            "\u001b[34m\u001b[1mwandb\u001b[0m: Run summary:\n",
            "\u001b[34m\u001b[1mwandb\u001b[0m:               total_flos 63951134846976.0\n",
            "\u001b[34m\u001b[1mwandb\u001b[0m:              train/epoch 3\n",
            "\u001b[34m\u001b[1mwandb\u001b[0m:        train/global_step 3\n",
            "\u001b[34m\u001b[1mwandb\u001b[0m:               train_loss 1.79616\n",
            "\u001b[34m\u001b[1mwandb\u001b[0m:            train_runtime 12.0063\n",
            "\u001b[34m\u001b[1mwandb\u001b[0m: train_samples_per_second 0.75\n",
            "\u001b[34m\u001b[1mwandb\u001b[0m:   train_steps_per_second 0.25\n",
            "\u001b[34m\u001b[1mwandb\u001b[0m: \n",
            "\u001b[34m\u001b[1mwandb\u001b[0m: You can sync this run to the cloud by running:\n",
            "\u001b[34m\u001b[1mwandb\u001b[0m: \u001b[1mwandb sync /content/wandb/offline-run-20251022_114518-y2j8u4jx\u001b[0m\n",
            "\u001b[34m\u001b[1mwandb\u001b[0m: Find logs at: \u001b[35m\u001b[1m./wandb/offline-run-20251022_114518-y2j8u4jx/logs\u001b[0m\n"
          ]
        }
      ],
      "source": [
        "!python CyberLLMInstruct/finetune/train.py \\\n",
        "    --model_name \"phi-3-mini\" \\\n",
        "    --dataset_path \"processed_data/phi-3-mini\" \\\n",
        "    --output_dir \"finetuned_models/meu-modelo-phi3\" \\\n",
        "    --use_lora True \\\n",
        "    --use_8bit True \\\n",
        "    --learning_rate 2e-4 \\\n",
        "    --num_train_epochs 3"
      ]
    },
    {
      "cell_type": "code",
      "execution_count": 41,
      "metadata": {
        "id": "LgUhLwNOAaJX",
        "colab": {
          "base_uri": "https://localhost:8080/"
        },
        "outputId": "363caf1c-495e-4961-a29d-daef3e6e5e50"
      },
      "outputs": [
        {
          "output_type": "stream",
          "name": "stdout",
          "text": [
            "Requirement already satisfied: transformers in /usr/local/lib/python3.12/dist-packages (4.57.1)\n",
            "Requirement already satisfied: filelock in /usr/local/lib/python3.12/dist-packages (from transformers) (3.20.0)\n",
            "Requirement already satisfied: huggingface-hub<1.0,>=0.34.0 in /usr/local/lib/python3.12/dist-packages (from transformers) (0.35.3)\n",
            "Requirement already satisfied: numpy>=1.17 in /usr/local/lib/python3.12/dist-packages (from transformers) (2.0.2)\n",
            "Requirement already satisfied: packaging>=20.0 in /usr/local/lib/python3.12/dist-packages (from transformers) (25.0)\n",
            "Requirement already satisfied: pyyaml>=5.1 in /usr/local/lib/python3.12/dist-packages (from transformers) (6.0.3)\n",
            "Requirement already satisfied: regex!=2019.12.17 in /usr/local/lib/python3.12/dist-packages (from transformers) (2024.11.6)\n",
            "Requirement already satisfied: requests in /usr/local/lib/python3.12/dist-packages (from transformers) (2.32.4)\n",
            "Requirement already satisfied: tokenizers<=0.23.0,>=0.22.0 in /usr/local/lib/python3.12/dist-packages (from transformers) (0.22.1)\n",
            "Requirement already satisfied: safetensors>=0.4.3 in /usr/local/lib/python3.12/dist-packages (from transformers) (0.6.2)\n",
            "Requirement already satisfied: tqdm>=4.27 in /usr/local/lib/python3.12/dist-packages (from transformers) (4.67.1)\n",
            "Requirement already satisfied: fsspec>=2023.5.0 in /usr/local/lib/python3.12/dist-packages (from huggingface-hub<1.0,>=0.34.0->transformers) (2025.3.0)\n",
            "Requirement already satisfied: typing-extensions>=3.7.4.3 in /usr/local/lib/python3.12/dist-packages (from huggingface-hub<1.0,>=0.34.0->transformers) (4.15.0)\n",
            "Requirement already satisfied: hf-xet<2.0.0,>=1.1.3 in /usr/local/lib/python3.12/dist-packages (from huggingface-hub<1.0,>=0.34.0->transformers) (1.1.10)\n",
            "Requirement already satisfied: charset_normalizer<4,>=2 in /usr/local/lib/python3.12/dist-packages (from requests->transformers) (3.4.4)\n",
            "Requirement already satisfied: idna<4,>=2.5 in /usr/local/lib/python3.12/dist-packages (from requests->transformers) (3.11)\n",
            "Requirement already satisfied: urllib3<3,>=1.21.1 in /usr/local/lib/python3.12/dist-packages (from requests->transformers) (2.5.0)\n",
            "Requirement already satisfied: certifi>=2017.4.17 in /usr/local/lib/python3.12/dist-packages (from requests->transformers) (2025.10.5)\n"
          ]
        }
      ],
      "source": [
        "!pip install --upgrade transformers"
      ]
    },
    {
      "cell_type": "code",
      "execution_count": 42,
      "metadata": {
        "id": "63xrqo23Ab5s",
        "colab": {
          "base_uri": "https://localhost:8080/"
        },
        "outputId": "9890a523-029b-4c22-d9b8-1067643aa131"
      },
      "outputs": [
        {
          "output_type": "stream",
          "name": "stdout",
          "text": [
            "Collecting peft==0.9.0\n",
            "  Using cached peft-0.9.0-py3-none-any.whl.metadata (13 kB)\n",
            "Requirement already satisfied: numpy>=1.17 in /usr/local/lib/python3.12/dist-packages (from peft==0.9.0) (2.0.2)\n",
            "Requirement already satisfied: packaging>=20.0 in /usr/local/lib/python3.12/dist-packages (from peft==0.9.0) (25.0)\n",
            "Requirement already satisfied: psutil in /usr/local/lib/python3.12/dist-packages (from peft==0.9.0) (5.9.5)\n",
            "Requirement already satisfied: pyyaml in /usr/local/lib/python3.12/dist-packages (from peft==0.9.0) (6.0.3)\n",
            "Requirement already satisfied: torch>=1.13.0 in /usr/local/lib/python3.12/dist-packages (from peft==0.9.0) (2.8.0+cu126)\n",
            "Requirement already satisfied: transformers in /usr/local/lib/python3.12/dist-packages (from peft==0.9.0) (4.57.1)\n",
            "Requirement already satisfied: tqdm in /usr/local/lib/python3.12/dist-packages (from peft==0.9.0) (4.67.1)\n",
            "Requirement already satisfied: accelerate>=0.21.0 in /usr/local/lib/python3.12/dist-packages (from peft==0.9.0) (1.11.0)\n",
            "Requirement already satisfied: safetensors in /usr/local/lib/python3.12/dist-packages (from peft==0.9.0) (0.6.2)\n",
            "Requirement already satisfied: huggingface-hub>=0.17.0 in /usr/local/lib/python3.12/dist-packages (from peft==0.9.0) (0.35.3)\n",
            "Requirement already satisfied: filelock in /usr/local/lib/python3.12/dist-packages (from huggingface-hub>=0.17.0->peft==0.9.0) (3.20.0)\n",
            "Requirement already satisfied: fsspec>=2023.5.0 in /usr/local/lib/python3.12/dist-packages (from huggingface-hub>=0.17.0->peft==0.9.0) (2025.3.0)\n",
            "Requirement already satisfied: requests in /usr/local/lib/python3.12/dist-packages (from huggingface-hub>=0.17.0->peft==0.9.0) (2.32.4)\n",
            "Requirement already satisfied: typing-extensions>=3.7.4.3 in /usr/local/lib/python3.12/dist-packages (from huggingface-hub>=0.17.0->peft==0.9.0) (4.15.0)\n",
            "Requirement already satisfied: hf-xet<2.0.0,>=1.1.3 in /usr/local/lib/python3.12/dist-packages (from huggingface-hub>=0.17.0->peft==0.9.0) (1.1.10)\n",
            "Requirement already satisfied: setuptools in /usr/local/lib/python3.12/dist-packages (from torch>=1.13.0->peft==0.9.0) (75.2.0)\n",
            "Requirement already satisfied: sympy>=1.13.3 in /usr/local/lib/python3.12/dist-packages (from torch>=1.13.0->peft==0.9.0) (1.13.3)\n",
            "Requirement already satisfied: networkx in /usr/local/lib/python3.12/dist-packages (from torch>=1.13.0->peft==0.9.0) (3.5)\n",
            "Requirement already satisfied: jinja2 in /usr/local/lib/python3.12/dist-packages (from torch>=1.13.0->peft==0.9.0) (3.1.6)\n",
            "Requirement already satisfied: nvidia-cuda-nvrtc-cu12==12.6.77 in /usr/local/lib/python3.12/dist-packages (from torch>=1.13.0->peft==0.9.0) (12.6.77)\n",
            "Requirement already satisfied: nvidia-cuda-runtime-cu12==12.6.77 in /usr/local/lib/python3.12/dist-packages (from torch>=1.13.0->peft==0.9.0) (12.6.77)\n",
            "Requirement already satisfied: nvidia-cuda-cupti-cu12==12.6.80 in /usr/local/lib/python3.12/dist-packages (from torch>=1.13.0->peft==0.9.0) (12.6.80)\n",
            "Requirement already satisfied: nvidia-cudnn-cu12==9.10.2.21 in /usr/local/lib/python3.12/dist-packages (from torch>=1.13.0->peft==0.9.0) (9.10.2.21)\n",
            "Requirement already satisfied: nvidia-cublas-cu12==12.6.4.1 in /usr/local/lib/python3.12/dist-packages (from torch>=1.13.0->peft==0.9.0) (12.6.4.1)\n",
            "Requirement already satisfied: nvidia-cufft-cu12==11.3.0.4 in /usr/local/lib/python3.12/dist-packages (from torch>=1.13.0->peft==0.9.0) (11.3.0.4)\n",
            "Requirement already satisfied: nvidia-curand-cu12==10.3.7.77 in /usr/local/lib/python3.12/dist-packages (from torch>=1.13.0->peft==0.9.0) (10.3.7.77)\n",
            "Requirement already satisfied: nvidia-cusolver-cu12==11.7.1.2 in /usr/local/lib/python3.12/dist-packages (from torch>=1.13.0->peft==0.9.0) (11.7.1.2)\n",
            "Requirement already satisfied: nvidia-cusparse-cu12==12.5.4.2 in /usr/local/lib/python3.12/dist-packages (from torch>=1.13.0->peft==0.9.0) (12.5.4.2)\n",
            "Requirement already satisfied: nvidia-cusparselt-cu12==0.7.1 in /usr/local/lib/python3.12/dist-packages (from torch>=1.13.0->peft==0.9.0) (0.7.1)\n",
            "Requirement already satisfied: nvidia-nccl-cu12==2.27.3 in /usr/local/lib/python3.12/dist-packages (from torch>=1.13.0->peft==0.9.0) (2.27.3)\n",
            "Requirement already satisfied: nvidia-nvtx-cu12==12.6.77 in /usr/local/lib/python3.12/dist-packages (from torch>=1.13.0->peft==0.9.0) (12.6.77)\n",
            "Requirement already satisfied: nvidia-nvjitlink-cu12==12.6.85 in /usr/local/lib/python3.12/dist-packages (from torch>=1.13.0->peft==0.9.0) (12.6.85)\n",
            "Requirement already satisfied: nvidia-cufile-cu12==1.11.1.6 in /usr/local/lib/python3.12/dist-packages (from torch>=1.13.0->peft==0.9.0) (1.11.1.6)\n",
            "Requirement already satisfied: triton==3.4.0 in /usr/local/lib/python3.12/dist-packages (from torch>=1.13.0->peft==0.9.0) (3.4.0)\n",
            "Requirement already satisfied: regex!=2019.12.17 in /usr/local/lib/python3.12/dist-packages (from transformers->peft==0.9.0) (2024.11.6)\n",
            "Requirement already satisfied: tokenizers<=0.23.0,>=0.22.0 in /usr/local/lib/python3.12/dist-packages (from transformers->peft==0.9.0) (0.22.1)\n",
            "Requirement already satisfied: mpmath<1.4,>=1.1.0 in /usr/local/lib/python3.12/dist-packages (from sympy>=1.13.3->torch>=1.13.0->peft==0.9.0) (1.3.0)\n",
            "Requirement already satisfied: MarkupSafe>=2.0 in /usr/local/lib/python3.12/dist-packages (from jinja2->torch>=1.13.0->peft==0.9.0) (3.0.3)\n",
            "Requirement already satisfied: charset_normalizer<4,>=2 in /usr/local/lib/python3.12/dist-packages (from requests->huggingface-hub>=0.17.0->peft==0.9.0) (3.4.4)\n",
            "Requirement already satisfied: idna<4,>=2.5 in /usr/local/lib/python3.12/dist-packages (from requests->huggingface-hub>=0.17.0->peft==0.9.0) (3.11)\n",
            "Requirement already satisfied: urllib3<3,>=1.21.1 in /usr/local/lib/python3.12/dist-packages (from requests->huggingface-hub>=0.17.0->peft==0.9.0) (2.5.0)\n",
            "Requirement already satisfied: certifi>=2017.4.17 in /usr/local/lib/python3.12/dist-packages (from requests->huggingface-hub>=0.17.0->peft==0.9.0) (2025.10.5)\n",
            "Using cached peft-0.9.0-py3-none-any.whl (190 kB)\n",
            "Installing collected packages: peft\n",
            "  Attempting uninstall: peft\n",
            "    Found existing installation: peft 0.17.1\n",
            "    Uninstalling peft-0.17.1:\n",
            "      Successfully uninstalled peft-0.17.1\n",
            "Successfully installed peft-0.9.0\n"
          ]
        }
      ],
      "source": [
        "!pip install peft==0.9.0"
      ]
    },
    {
      "cell_type": "code",
      "execution_count": 26,
      "metadata": {
        "id": "7kVgrbWrFN6h",
        "colab": {
          "base_uri": "https://localhost:8080/"
        },
        "outputId": "ded906ce-606a-418f-9751-3110e49a8646"
      },
      "outputs": [
        {
          "output_type": "stream",
          "name": "stdout",
          "text": [
            "Found existing installation: peft 0.9.0\n",
            "Uninstalling peft-0.9.0:\n",
            "  Would remove:\n",
            "    /usr/local/lib/python3.12/dist-packages/peft-0.9.0.dist-info/*\n",
            "    /usr/local/lib/python3.12/dist-packages/peft/*\n",
            "Proceed (Y/n)? n\n"
          ]
        }
      ],
      "source": [
        "!pip uninstall peft"
      ]
    },
    {
      "cell_type": "code",
      "execution_count": 43,
      "metadata": {
        "id": "y7YxSatUF6hR",
        "colab": {
          "base_uri": "https://localhost:8080/"
        },
        "outputId": "29f7abc6-16e1-4c83-ac27-68c9d7a0555f"
      },
      "outputs": [
        {
          "output_type": "stream",
          "name": "stdout",
          "text": [
            "Collecting transformers==4.38.2\n",
            "  Using cached transformers-4.38.2-py3-none-any.whl.metadata (130 kB)\n",
            "Requirement already satisfied: peft==0.9.0 in /usr/local/lib/python3.12/dist-packages (0.9.0)\n",
            "Collecting accelerate==0.28.0\n",
            "  Using cached accelerate-0.28.0-py3-none-any.whl.metadata (18 kB)\n",
            "Collecting bitsandbytes==0.42.0\n",
            "  Using cached bitsandbytes-0.42.0-py3-none-any.whl.metadata (9.9 kB)\n",
            "Requirement already satisfied: filelock in /usr/local/lib/python3.12/dist-packages (from transformers==4.38.2) (3.20.0)\n",
            "Requirement already satisfied: huggingface-hub<1.0,>=0.19.3 in /usr/local/lib/python3.12/dist-packages (from transformers==4.38.2) (0.35.3)\n",
            "Requirement already satisfied: numpy>=1.17 in /usr/local/lib/python3.12/dist-packages (from transformers==4.38.2) (2.0.2)\n",
            "Requirement already satisfied: packaging>=20.0 in /usr/local/lib/python3.12/dist-packages (from transformers==4.38.2) (25.0)\n",
            "Requirement already satisfied: pyyaml>=5.1 in /usr/local/lib/python3.12/dist-packages (from transformers==4.38.2) (6.0.3)\n",
            "Requirement already satisfied: regex!=2019.12.17 in /usr/local/lib/python3.12/dist-packages (from transformers==4.38.2) (2024.11.6)\n",
            "Requirement already satisfied: requests in /usr/local/lib/python3.12/dist-packages (from transformers==4.38.2) (2.32.4)\n",
            "Collecting tokenizers<0.19,>=0.14 (from transformers==4.38.2)\n",
            "  Downloading tokenizers-0.15.2-cp312-cp312-manylinux_2_17_x86_64.manylinux2014_x86_64.whl.metadata (6.7 kB)\n",
            "Requirement already satisfied: safetensors>=0.4.1 in /usr/local/lib/python3.12/dist-packages (from transformers==4.38.2) (0.6.2)\n",
            "Requirement already satisfied: tqdm>=4.27 in /usr/local/lib/python3.12/dist-packages (from transformers==4.38.2) (4.67.1)\n",
            "Requirement already satisfied: psutil in /usr/local/lib/python3.12/dist-packages (from peft==0.9.0) (5.9.5)\n",
            "Requirement already satisfied: torch>=1.13.0 in /usr/local/lib/python3.12/dist-packages (from peft==0.9.0) (2.8.0+cu126)\n",
            "Requirement already satisfied: scipy in /usr/local/lib/python3.12/dist-packages (from bitsandbytes==0.42.0) (1.16.2)\n",
            "Requirement already satisfied: fsspec>=2023.5.0 in /usr/local/lib/python3.12/dist-packages (from huggingface-hub<1.0,>=0.19.3->transformers==4.38.2) (2025.3.0)\n",
            "Requirement already satisfied: typing-extensions>=3.7.4.3 in /usr/local/lib/python3.12/dist-packages (from huggingface-hub<1.0,>=0.19.3->transformers==4.38.2) (4.15.0)\n",
            "Requirement already satisfied: hf-xet<2.0.0,>=1.1.3 in /usr/local/lib/python3.12/dist-packages (from huggingface-hub<1.0,>=0.19.3->transformers==4.38.2) (1.1.10)\n",
            "Requirement already satisfied: setuptools in /usr/local/lib/python3.12/dist-packages (from torch>=1.13.0->peft==0.9.0) (75.2.0)\n",
            "Requirement already satisfied: sympy>=1.13.3 in /usr/local/lib/python3.12/dist-packages (from torch>=1.13.0->peft==0.9.0) (1.13.3)\n",
            "Requirement already satisfied: networkx in /usr/local/lib/python3.12/dist-packages (from torch>=1.13.0->peft==0.9.0) (3.5)\n",
            "Requirement already satisfied: jinja2 in /usr/local/lib/python3.12/dist-packages (from torch>=1.13.0->peft==0.9.0) (3.1.6)\n",
            "Requirement already satisfied: nvidia-cuda-nvrtc-cu12==12.6.77 in /usr/local/lib/python3.12/dist-packages (from torch>=1.13.0->peft==0.9.0) (12.6.77)\n",
            "Requirement already satisfied: nvidia-cuda-runtime-cu12==12.6.77 in /usr/local/lib/python3.12/dist-packages (from torch>=1.13.0->peft==0.9.0) (12.6.77)\n",
            "Requirement already satisfied: nvidia-cuda-cupti-cu12==12.6.80 in /usr/local/lib/python3.12/dist-packages (from torch>=1.13.0->peft==0.9.0) (12.6.80)\n",
            "Requirement already satisfied: nvidia-cudnn-cu12==9.10.2.21 in /usr/local/lib/python3.12/dist-packages (from torch>=1.13.0->peft==0.9.0) (9.10.2.21)\n",
            "Requirement already satisfied: nvidia-cublas-cu12==12.6.4.1 in /usr/local/lib/python3.12/dist-packages (from torch>=1.13.0->peft==0.9.0) (12.6.4.1)\n",
            "Requirement already satisfied: nvidia-cufft-cu12==11.3.0.4 in /usr/local/lib/python3.12/dist-packages (from torch>=1.13.0->peft==0.9.0) (11.3.0.4)\n",
            "Requirement already satisfied: nvidia-curand-cu12==10.3.7.77 in /usr/local/lib/python3.12/dist-packages (from torch>=1.13.0->peft==0.9.0) (10.3.7.77)\n",
            "Requirement already satisfied: nvidia-cusolver-cu12==11.7.1.2 in /usr/local/lib/python3.12/dist-packages (from torch>=1.13.0->peft==0.9.0) (11.7.1.2)\n",
            "Requirement already satisfied: nvidia-cusparse-cu12==12.5.4.2 in /usr/local/lib/python3.12/dist-packages (from torch>=1.13.0->peft==0.9.0) (12.5.4.2)\n",
            "Requirement already satisfied: nvidia-cusparselt-cu12==0.7.1 in /usr/local/lib/python3.12/dist-packages (from torch>=1.13.0->peft==0.9.0) (0.7.1)\n",
            "Requirement already satisfied: nvidia-nccl-cu12==2.27.3 in /usr/local/lib/python3.12/dist-packages (from torch>=1.13.0->peft==0.9.0) (2.27.3)\n",
            "Requirement already satisfied: nvidia-nvtx-cu12==12.6.77 in /usr/local/lib/python3.12/dist-packages (from torch>=1.13.0->peft==0.9.0) (12.6.77)\n",
            "Requirement already satisfied: nvidia-nvjitlink-cu12==12.6.85 in /usr/local/lib/python3.12/dist-packages (from torch>=1.13.0->peft==0.9.0) (12.6.85)\n",
            "Requirement already satisfied: nvidia-cufile-cu12==1.11.1.6 in /usr/local/lib/python3.12/dist-packages (from torch>=1.13.0->peft==0.9.0) (1.11.1.6)\n",
            "Requirement already satisfied: triton==3.4.0 in /usr/local/lib/python3.12/dist-packages (from torch>=1.13.0->peft==0.9.0) (3.4.0)\n",
            "Requirement already satisfied: charset_normalizer<4,>=2 in /usr/local/lib/python3.12/dist-packages (from requests->transformers==4.38.2) (3.4.4)\n",
            "Requirement already satisfied: idna<4,>=2.5 in /usr/local/lib/python3.12/dist-packages (from requests->transformers==4.38.2) (3.11)\n",
            "Requirement already satisfied: urllib3<3,>=1.21.1 in /usr/local/lib/python3.12/dist-packages (from requests->transformers==4.38.2) (2.5.0)\n",
            "Requirement already satisfied: certifi>=2017.4.17 in /usr/local/lib/python3.12/dist-packages (from requests->transformers==4.38.2) (2025.10.5)\n",
            "Requirement already satisfied: mpmath<1.4,>=1.1.0 in /usr/local/lib/python3.12/dist-packages (from sympy>=1.13.3->torch>=1.13.0->peft==0.9.0) (1.3.0)\n",
            "Requirement already satisfied: MarkupSafe>=2.0 in /usr/local/lib/python3.12/dist-packages (from jinja2->torch>=1.13.0->peft==0.9.0) (3.0.3)\n",
            "Downloading transformers-4.38.2-py3-none-any.whl (8.5 MB)\n",
            "\u001b[2K   \u001b[90m━━━━━━━━━━━━━━━━━━━━━━━━━━━━━━━━━━━━━━━━\u001b[0m \u001b[32m8.5/8.5 MB\u001b[0m \u001b[31m85.4 MB/s\u001b[0m eta \u001b[36m0:00:00\u001b[0m\n",
            "\u001b[?25hDownloading accelerate-0.28.0-py3-none-any.whl (290 kB)\n",
            "\u001b[2K   \u001b[90m━━━━━━━━━━━━━━━━━━━━━━━━━━━━━━━━━━━━━━━━\u001b[0m \u001b[32m290.1/290.1 kB\u001b[0m \u001b[31m26.2 MB/s\u001b[0m eta \u001b[36m0:00:00\u001b[0m\n",
            "\u001b[?25hDownloading bitsandbytes-0.42.0-py3-none-any.whl (105.0 MB)\n",
            "\u001b[2K   \u001b[90m━━━━━━━━━━━━━━━━━━━━━━━━━━━━━━━━━━━━━━━━\u001b[0m \u001b[32m105.0/105.0 MB\u001b[0m \u001b[31m8.1 MB/s\u001b[0m eta \u001b[36m0:00:00\u001b[0m\n",
            "\u001b[?25hDownloading tokenizers-0.15.2-cp312-cp312-manylinux_2_17_x86_64.manylinux2014_x86_64.whl (3.6 MB)\n",
            "\u001b[2K   \u001b[90m━━━━━━━━━━━━━━━━━━━━━━━━━━━━━━━━━━━━━━━━\u001b[0m \u001b[32m3.6/3.6 MB\u001b[0m \u001b[31m83.2 MB/s\u001b[0m eta \u001b[36m0:00:00\u001b[0m\n",
            "\u001b[?25hInstalling collected packages: bitsandbytes, tokenizers, transformers, accelerate\n",
            "  Attempting uninstall: bitsandbytes\n",
            "    Found existing installation: bitsandbytes 0.48.1\n",
            "    Uninstalling bitsandbytes-0.48.1:\n",
            "      Successfully uninstalled bitsandbytes-0.48.1\n",
            "  Attempting uninstall: tokenizers\n",
            "    Found existing installation: tokenizers 0.22.1\n",
            "    Uninstalling tokenizers-0.22.1:\n",
            "      Successfully uninstalled tokenizers-0.22.1\n",
            "  Attempting uninstall: transformers\n",
            "    Found existing installation: transformers 4.57.1\n",
            "    Uninstalling transformers-4.57.1:\n",
            "      Successfully uninstalled transformers-4.57.1\n",
            "  Attempting uninstall: accelerate\n",
            "    Found existing installation: accelerate 1.11.0\n",
            "    Uninstalling accelerate-1.11.0:\n",
            "      Successfully uninstalled accelerate-1.11.0\n",
            "\u001b[31mERROR: pip's dependency resolver does not currently take into account all the packages that are installed. This behaviour is the source of the following dependency conflicts.\n",
            "sentence-transformers 5.1.1 requires transformers<5.0.0,>=4.41.0, but you have transformers 4.38.2 which is incompatible.\u001b[0m\u001b[31m\n",
            "\u001b[0mSuccessfully installed accelerate-0.28.0 bitsandbytes-0.42.0 tokenizers-0.15.2 transformers-4.38.2\n"
          ]
        }
      ],
      "source": [
        "!pip install transformers==4.38.2 peft==0.9.0 accelerate==0.28.0 bitsandbytes==0.42.0"
      ]
    },
    {
      "cell_type": "code",
      "execution_count": 44,
      "metadata": {
        "id": "vRoZ938ZGjDz"
      },
      "outputs": [],
      "source": [
        "!rm -rf ~/.cache/huggingface/"
      ]
    },
    {
      "cell_type": "code",
      "execution_count": 45,
      "metadata": {
        "id": "l9zaXiShGmAb",
        "colab": {
          "base_uri": "https://localhost:8080/"
        },
        "outputId": "72731411-0dc4-4e56-b113-9d8fc5ac69a2"
      },
      "outputs": [
        {
          "output_type": "stream",
          "name": "stdout",
          "text": [
            "Requirement already satisfied: transformers in /usr/local/lib/python3.12/dist-packages (4.38.2)\n",
            "Collecting transformers\n",
            "  Using cached transformers-4.57.1-py3-none-any.whl.metadata (43 kB)\n",
            "Requirement already satisfied: peft in /usr/local/lib/python3.12/dist-packages (0.9.0)\n",
            "Collecting peft\n",
            "  Using cached peft-0.17.1-py3-none-any.whl.metadata (14 kB)\n",
            "Requirement already satisfied: accelerate in /usr/local/lib/python3.12/dist-packages (0.28.0)\n",
            "Collecting accelerate\n",
            "  Using cached accelerate-1.11.0-py3-none-any.whl.metadata (19 kB)\n",
            "Requirement already satisfied: bitsandbytes in /usr/local/lib/python3.12/dist-packages (0.42.0)\n",
            "Collecting bitsandbytes\n",
            "  Using cached bitsandbytes-0.48.1-py3-none-manylinux_2_24_x86_64.whl.metadata (10 kB)\n",
            "Requirement already satisfied: huggingface_hub in /usr/local/lib/python3.12/dist-packages (0.35.3)\n",
            "Requirement already satisfied: filelock in /usr/local/lib/python3.12/dist-packages (from transformers) (3.20.0)\n",
            "Requirement already satisfied: numpy>=1.17 in /usr/local/lib/python3.12/dist-packages (from transformers) (2.0.2)\n",
            "Requirement already satisfied: packaging>=20.0 in /usr/local/lib/python3.12/dist-packages (from transformers) (25.0)\n",
            "Requirement already satisfied: pyyaml>=5.1 in /usr/local/lib/python3.12/dist-packages (from transformers) (6.0.3)\n",
            "Requirement already satisfied: regex!=2019.12.17 in /usr/local/lib/python3.12/dist-packages (from transformers) (2024.11.6)\n",
            "Requirement already satisfied: requests in /usr/local/lib/python3.12/dist-packages (from transformers) (2.32.4)\n",
            "Collecting tokenizers<=0.23.0,>=0.22.0 (from transformers)\n",
            "  Using cached tokenizers-0.22.1-cp39-abi3-manylinux_2_17_x86_64.manylinux2014_x86_64.whl.metadata (6.8 kB)\n",
            "Requirement already satisfied: safetensors>=0.4.3 in /usr/local/lib/python3.12/dist-packages (from transformers) (0.6.2)\n",
            "Requirement already satisfied: tqdm>=4.27 in /usr/local/lib/python3.12/dist-packages (from transformers) (4.67.1)\n",
            "Requirement already satisfied: psutil in /usr/local/lib/python3.12/dist-packages (from peft) (5.9.5)\n",
            "Requirement already satisfied: torch>=1.13.0 in /usr/local/lib/python3.12/dist-packages (from peft) (2.8.0+cu126)\n",
            "Requirement already satisfied: fsspec>=2023.5.0 in /usr/local/lib/python3.12/dist-packages (from huggingface_hub) (2025.3.0)\n",
            "Requirement already satisfied: typing-extensions>=3.7.4.3 in /usr/local/lib/python3.12/dist-packages (from huggingface_hub) (4.15.0)\n",
            "Requirement already satisfied: hf-xet<2.0.0,>=1.1.3 in /usr/local/lib/python3.12/dist-packages (from huggingface_hub) (1.1.10)\n",
            "Requirement already satisfied: setuptools in /usr/local/lib/python3.12/dist-packages (from torch>=1.13.0->peft) (75.2.0)\n",
            "Requirement already satisfied: sympy>=1.13.3 in /usr/local/lib/python3.12/dist-packages (from torch>=1.13.0->peft) (1.13.3)\n",
            "Requirement already satisfied: networkx in /usr/local/lib/python3.12/dist-packages (from torch>=1.13.0->peft) (3.5)\n",
            "Requirement already satisfied: jinja2 in /usr/local/lib/python3.12/dist-packages (from torch>=1.13.0->peft) (3.1.6)\n",
            "Requirement already satisfied: nvidia-cuda-nvrtc-cu12==12.6.77 in /usr/local/lib/python3.12/dist-packages (from torch>=1.13.0->peft) (12.6.77)\n",
            "Requirement already satisfied: nvidia-cuda-runtime-cu12==12.6.77 in /usr/local/lib/python3.12/dist-packages (from torch>=1.13.0->peft) (12.6.77)\n",
            "Requirement already satisfied: nvidia-cuda-cupti-cu12==12.6.80 in /usr/local/lib/python3.12/dist-packages (from torch>=1.13.0->peft) (12.6.80)\n",
            "Requirement already satisfied: nvidia-cudnn-cu12==9.10.2.21 in /usr/local/lib/python3.12/dist-packages (from torch>=1.13.0->peft) (9.10.2.21)\n",
            "Requirement already satisfied: nvidia-cublas-cu12==12.6.4.1 in /usr/local/lib/python3.12/dist-packages (from torch>=1.13.0->peft) (12.6.4.1)\n",
            "Requirement already satisfied: nvidia-cufft-cu12==11.3.0.4 in /usr/local/lib/python3.12/dist-packages (from torch>=1.13.0->peft) (11.3.0.4)\n",
            "Requirement already satisfied: nvidia-curand-cu12==10.3.7.77 in /usr/local/lib/python3.12/dist-packages (from torch>=1.13.0->peft) (10.3.7.77)\n",
            "Requirement already satisfied: nvidia-cusolver-cu12==11.7.1.2 in /usr/local/lib/python3.12/dist-packages (from torch>=1.13.0->peft) (11.7.1.2)\n",
            "Requirement already satisfied: nvidia-cusparse-cu12==12.5.4.2 in /usr/local/lib/python3.12/dist-packages (from torch>=1.13.0->peft) (12.5.4.2)\n",
            "Requirement already satisfied: nvidia-cusparselt-cu12==0.7.1 in /usr/local/lib/python3.12/dist-packages (from torch>=1.13.0->peft) (0.7.1)\n",
            "Requirement already satisfied: nvidia-nccl-cu12==2.27.3 in /usr/local/lib/python3.12/dist-packages (from torch>=1.13.0->peft) (2.27.3)\n",
            "Requirement already satisfied: nvidia-nvtx-cu12==12.6.77 in /usr/local/lib/python3.12/dist-packages (from torch>=1.13.0->peft) (12.6.77)\n",
            "Requirement already satisfied: nvidia-nvjitlink-cu12==12.6.85 in /usr/local/lib/python3.12/dist-packages (from torch>=1.13.0->peft) (12.6.85)\n",
            "Requirement already satisfied: nvidia-cufile-cu12==1.11.1.6 in /usr/local/lib/python3.12/dist-packages (from torch>=1.13.0->peft) (1.11.1.6)\n",
            "Requirement already satisfied: triton==3.4.0 in /usr/local/lib/python3.12/dist-packages (from torch>=1.13.0->peft) (3.4.0)\n",
            "Requirement already satisfied: charset_normalizer<4,>=2 in /usr/local/lib/python3.12/dist-packages (from requests->transformers) (3.4.4)\n",
            "Requirement already satisfied: idna<4,>=2.5 in /usr/local/lib/python3.12/dist-packages (from requests->transformers) (3.11)\n",
            "Requirement already satisfied: urllib3<3,>=1.21.1 in /usr/local/lib/python3.12/dist-packages (from requests->transformers) (2.5.0)\n",
            "Requirement already satisfied: certifi>=2017.4.17 in /usr/local/lib/python3.12/dist-packages (from requests->transformers) (2025.10.5)\n",
            "Requirement already satisfied: mpmath<1.4,>=1.1.0 in /usr/local/lib/python3.12/dist-packages (from sympy>=1.13.3->torch>=1.13.0->peft) (1.3.0)\n",
            "Requirement already satisfied: MarkupSafe>=2.0 in /usr/local/lib/python3.12/dist-packages (from jinja2->torch>=1.13.0->peft) (3.0.3)\n",
            "Using cached transformers-4.57.1-py3-none-any.whl (12.0 MB)\n",
            "Using cached peft-0.17.1-py3-none-any.whl (504 kB)\n",
            "Using cached accelerate-1.11.0-py3-none-any.whl (375 kB)\n",
            "Using cached bitsandbytes-0.48.1-py3-none-manylinux_2_24_x86_64.whl (60.1 MB)\n",
            "Using cached tokenizers-0.22.1-cp39-abi3-manylinux_2_17_x86_64.manylinux2014_x86_64.whl (3.3 MB)\n",
            "Installing collected packages: tokenizers, transformers, bitsandbytes, accelerate, peft\n",
            "  Attempting uninstall: tokenizers\n",
            "    Found existing installation: tokenizers 0.15.2\n",
            "    Uninstalling tokenizers-0.15.2:\n",
            "      Successfully uninstalled tokenizers-0.15.2\n",
            "  Attempting uninstall: transformers\n",
            "    Found existing installation: transformers 4.38.2\n",
            "    Uninstalling transformers-4.38.2:\n",
            "      Successfully uninstalled transformers-4.38.2\n",
            "  Attempting uninstall: bitsandbytes\n",
            "    Found existing installation: bitsandbytes 0.42.0\n",
            "    Uninstalling bitsandbytes-0.42.0:\n",
            "      Successfully uninstalled bitsandbytes-0.42.0\n",
            "  Attempting uninstall: accelerate\n",
            "    Found existing installation: accelerate 0.28.0\n",
            "    Uninstalling accelerate-0.28.0:\n",
            "      Successfully uninstalled accelerate-0.28.0\n",
            "  Attempting uninstall: peft\n",
            "    Found existing installation: peft 0.9.0\n",
            "    Uninstalling peft-0.9.0:\n",
            "      Successfully uninstalled peft-0.9.0\n",
            "Successfully installed accelerate-1.11.0 bitsandbytes-0.48.1 peft-0.17.1 tokenizers-0.22.1 transformers-4.57.1\n"
          ]
        }
      ],
      "source": [
        "!pip install --upgrade transformers peft accelerate bitsandbytes huggingface_hub"
      ]
    },
    {
      "cell_type": "code",
      "execution_count": 47,
      "metadata": {
        "id": "YJ0iLyZ1_XnI",
        "colab": {
          "base_uri": "https://localhost:8080/"
        },
        "outputId": "e16b7090-cdbc-42a5-b4b1-b6329377ae6f"
      },
      "outputs": [
        {
          "output_type": "stream",
          "name": "stdout",
          "text": [
            "2025-10-22 11:56:49.859469: E external/local_xla/xla/stream_executor/cuda/cuda_fft.cc:467] Unable to register cuFFT factory: Attempting to register factory for plugin cuFFT when one has already been registered\n",
            "WARNING: All log messages before absl::InitializeLog() is called are written to STDERR\n",
            "E0000 00:00:1761134209.880633   15528 cuda_dnn.cc:8579] Unable to register cuDNN factory: Attempting to register factory for plugin cuDNN when one has already been registered\n",
            "E0000 00:00:1761134209.887408   15528 cuda_blas.cc:1407] Unable to register cuBLAS factory: Attempting to register factory for plugin cuBLAS when one has already been registered\n",
            "W0000 00:00:1761134209.905137   15528 computation_placer.cc:177] computation placer already registered. Please check linkage and avoid linking the same target more than once.\n",
            "W0000 00:00:1761134209.905170   15528 computation_placer.cc:177] computation placer already registered. Please check linkage and avoid linking the same target more than once.\n",
            "W0000 00:00:1761134209.905174   15528 computation_placer.cc:177] computation placer already registered. Please check linkage and avoid linking the same target more than once.\n",
            "W0000 00:00:1761134209.905178   15528 computation_placer.cc:177] computation placer already registered. Please check linkage and avoid linking the same target more than once.\n",
            "2025-10-22 11:56:49.910176: I tensorflow/core/platform/cpu_feature_guard.cc:210] This TensorFlow binary is optimized to use available CPU instructions in performance-critical operations.\n",
            "To enable the following instructions: AVX2 FMA, in other operations, rebuild TensorFlow with the appropriate compiler flags.\n",
            "`torch_dtype` is deprecated! Use `dtype` instead!\n",
            "WARNING:transformers_modules.microsoft.Phi_hyphen_3_dot_5_hyphen_mini_hyphen_instruct.3145e03a9fd4cdd7cd953c34d9bbf7ad606122ca.modeling_phi3:`flash-attention` package not found, consider installing for better performance: No module named 'flash_attn'.\n",
            "WARNING:transformers_modules.microsoft.Phi_hyphen_3_dot_5_hyphen_mini_hyphen_instruct.3145e03a9fd4cdd7cd953c34d9bbf7ad606122ca.modeling_phi3:Current `flash-attention` does not support `window_size`. Either upgrade or use `attn_implementation='eager'`.\n",
            "Loading checkpoint shards: 100% 2/2 [00:41<00:00, 20.72s/it]\n",
            "\n",
            "Entering interactive mode. Type 'quit' to exit.\n",
            "==================================================\n",
            "\n",
            "Enter your instruction: How to prevent phishing?\n",
            "\n",
            "Generating response...\n",
            "\n",
            "Response:\n",
            "Instruction: How to prevent WARNING:transformers_modules.microsoft.Phi_hyphen_3_dot_5_hyphen_mini_hyphen_instruct.3145e03a9fd4cdd7cd953c34d9bbf7ad606122ca.modeling_phi3:You are not running the flash-attention implementation, expect numerical differences.\n",
            "phishing?\n",
            "Response: To prevent phishing, you should take several precautionary measures:\n",
            "\n",
            "1. **Be Skeptical**: Always question the legitimacy of unexpected requests for personal information, especially if they come via email or text message.\n",
            "\n",
            "2. **Check URLs Carefully**: Before clicking on any links, hover over them without clicking to see if the URL matches the legitimate website's URL. Phishers often use URLs that appear similar to authentic sites.\n",
            "\n",
            "3. **Use Multi-Factor Authentication (MFA)**: Enable MFA on all accounts where possible. This adds an additional layer of security, even if your password is compromised.\n",
            "\n",
            "4. **Keep Software Updated**: Ensure your operating system, browser, and antivirus software are up to date with the latest security patches.\n",
            "\n",
            "5. **Secure Your Network**: Use a secure, password-protected Wi-Fi connection, especially when conducting financial transactions.\n",
            "\n",
            "6. **Educate Yourself**: Learn the common signs of phishing attempts, such as poor spelling and grammar, requests for sensitive information, and urgent calls to action.\n",
            "\n",
            "7. **Use Email Filters**: Most email services offer phishing filters. Enable them to help catch suspicious emails.\n",
            "\n",
            "8. **Report Phishing Attempts**: If you receive a phishing email, report it to your email provider and consider notifying the appropriate authorities.\n",
            "\n",
            "9. **Verify Requests in Person**: If in doubt, contact the institution or company directly using a verified phone number or website, not the one provided in the suspicious email.\n",
            "\n",
            "10. **Implement Regular Training**: Regular cybersecurity awareness training for all employees can help them recognize and respond to phishing attempts.\n",
            "\n",
            "11. **Use Email Authentication Technologies**: Implement SPF, DKIM, and DMARC records for your email domain to help detect and block spoofed emails.\n",
            "\n",
            "12. **Secure Personal Information**: Be cautious about the amount of personal information you share online.\n",
            "\n",
            "13. **Use Browser Extensions**: Consider using browser extensions that can alert you to known phishing sites.\n",
            "\n",
            "14. **Limit Information Shared Online**: Avoid posting sensitive information on social media or other public platforms.\n",
            "\n",
            "1\n",
            "\n",
            "\n",
            "Enter your instruction: What is SQL Injection?\n",
            "\n",
            "Generating response...\n",
            "\n",
            "Response:\n",
            "Instruction: What is SQL Injection?\n",
            "Response: SQL Injection is a type of security vulnerability that occurs when an attacker is able to insert or manipulate SQL queries through a web application's input fields. This can lead to unauthorized access to databases, data theft, data corruption, or even complete takeover of the affected system. SQL Injection exploits occur when user input is not properly sanitized or validated, allowing attackers to execute malicious SQL code within the application's database.\n",
            "\n",
            "Here's an example of how an SQL Injection attack might work:\n",
            "\n",
            "1. An attacker identifies a vulnerable input field in a web application, such as a login form.\n",
            "2. The attacker inputs malicious SQL code into the input field, such as `1' OR '1'='1`.\n",
            "3. The web application processes the input and constructs a SQL query based on the input provided.\n",
            "4. The malicious SQL code alters the query, causing it to always evaluate to true.\n",
            "5. The web application executes the altered query, granting unauthorized access to the database or allowing the attacker to retrieve sensitive information.\n",
            "\n",
            "To prevent SQL Injection attacks, developers should use parameterized queries, input validation, and proper error handling. These techniques help ensure that user input is treated as data rather than executable code, and that only valid and expected data is processed by the application. Additionally, regularly updating and patching database systems can help mitigate potential vulnerabilities.\n",
            "\n",
            "Here's an example of how to use parameterized queries to prevent SQL Injection:\n",
            "\n",
            "```python\n",
            "import sqlite3\n",
            "\n",
            "# Connect to the database\n",
            "conn = sqlite3.connect('example.db')\n",
            "c = conn.cursor()\n",
            "\n",
            "# Retrieve user input\n",
            "username = input('Enter username: ')\n",
            "password = input('Enter password: ')\n",
            "\n",
            "# Use parameterized query to prevent SQL Injection\n",
            "c.execute(\"SELECT * FROM users WHERE username=? AND password=?\", (username, password))\n",
            "\n",
            "# Retrieve results\n",
            "results = c.fetchall()\n",
            "\n",
            "# Close database connection\n",
            "conn.close()\n",
            "\n",
            "# Process results\n",
            "if len(results) > 0:\n",
            "   print('Login successful')\n",
            "else:\n",
            "   print('Login failed')\n",
            "```\n",
            "\n",
            "In this example, the `?` placeholders are used to represent user input in the SQL query.\n",
            "\n",
            "\n",
            "Enter your instruction: \n",
            "Exiting interactive mode...\n"
          ]
        }
      ],
      "source": [
        "!python CyberLLMInstruct/finetune/inference.py \\\n",
        "    --model_name \"phi-3-mini\" \\\n",
        "    --model_path \"finetuned_models/meu-modelo-phi3-colab\" \\\n",
        "    --interactive \\\n",
        "    --use_8bit True"
      ]
    },
    {
      "cell_type": "code",
      "execution_count": 31,
      "metadata": {
        "id": "BXgq9cizJb33",
        "colab": {
          "base_uri": "https://localhost:8080/"
        },
        "outputId": "627278b4-dee0-445d-9aff-d21b412a7a94"
      },
      "outputs": [
        {
          "output_type": "stream",
          "name": "stdout",
          "text": [
            "Collecting transformers==4.41.2\n",
            "  Downloading transformers-4.41.2-py3-none-any.whl.metadata (43 kB)\n",
            "\u001b[?25l     \u001b[90m━━━━━━━━━━━━━━━━━━━━━━━━━━━━━━━━━━━━━━━━\u001b[0m \u001b[32m0.0/43.8 kB\u001b[0m \u001b[31m?\u001b[0m eta \u001b[36m-:--:--\u001b[0m\r\u001b[2K     \u001b[90m━━━━━━━━━━━━━━━━━━━━━━━━━━━━━━━━━━━━━━━━\u001b[0m \u001b[32m43.8/43.8 kB\u001b[0m \u001b[31m3.5 MB/s\u001b[0m eta \u001b[36m0:00:00\u001b[0m\n",
            "\u001b[?25hRequirement already satisfied: filelock in /usr/local/lib/python3.12/dist-packages (from transformers==4.41.2) (3.20.0)\n",
            "Requirement already satisfied: huggingface-hub<1.0,>=0.23.0 in /usr/local/lib/python3.12/dist-packages (from transformers==4.41.2) (0.35.3)\n",
            "Requirement already satisfied: numpy>=1.17 in /usr/local/lib/python3.12/dist-packages (from transformers==4.41.2) (2.0.2)\n",
            "Requirement already satisfied: packaging>=20.0 in /usr/local/lib/python3.12/dist-packages (from transformers==4.41.2) (25.0)\n",
            "Requirement already satisfied: pyyaml>=5.1 in /usr/local/lib/python3.12/dist-packages (from transformers==4.41.2) (6.0.3)\n",
            "Requirement already satisfied: regex!=2019.12.17 in /usr/local/lib/python3.12/dist-packages (from transformers==4.41.2) (2024.11.6)\n",
            "Requirement already satisfied: requests in /usr/local/lib/python3.12/dist-packages (from transformers==4.41.2) (2.32.4)\n",
            "Collecting tokenizers<0.20,>=0.19 (from transformers==4.41.2)\n",
            "  Downloading tokenizers-0.19.1-cp312-cp312-manylinux_2_17_x86_64.manylinux2014_x86_64.whl.metadata (6.7 kB)\n",
            "Requirement already satisfied: safetensors>=0.4.1 in /usr/local/lib/python3.12/dist-packages (from transformers==4.41.2) (0.6.2)\n",
            "Requirement already satisfied: tqdm>=4.27 in /usr/local/lib/python3.12/dist-packages (from transformers==4.41.2) (4.67.1)\n",
            "Requirement already satisfied: fsspec>=2023.5.0 in /usr/local/lib/python3.12/dist-packages (from huggingface-hub<1.0,>=0.23.0->transformers==4.41.2) (2025.3.0)\n",
            "Requirement already satisfied: typing-extensions>=3.7.4.3 in /usr/local/lib/python3.12/dist-packages (from huggingface-hub<1.0,>=0.23.0->transformers==4.41.2) (4.15.0)\n",
            "Requirement already satisfied: hf-xet<2.0.0,>=1.1.3 in /usr/local/lib/python3.12/dist-packages (from huggingface-hub<1.0,>=0.23.0->transformers==4.41.2) (1.1.10)\n",
            "Requirement already satisfied: charset_normalizer<4,>=2 in /usr/local/lib/python3.12/dist-packages (from requests->transformers==4.41.2) (3.4.4)\n",
            "Requirement already satisfied: idna<4,>=2.5 in /usr/local/lib/python3.12/dist-packages (from requests->transformers==4.41.2) (3.11)\n",
            "Requirement already satisfied: urllib3<3,>=1.21.1 in /usr/local/lib/python3.12/dist-packages (from requests->transformers==4.41.2) (2.5.0)\n",
            "Requirement already satisfied: certifi>=2017.4.17 in /usr/local/lib/python3.12/dist-packages (from requests->transformers==4.41.2) (2025.10.5)\n",
            "Downloading transformers-4.41.2-py3-none-any.whl (9.1 MB)\n",
            "\u001b[2K   \u001b[90m━━━━━━━━━━━━━━━━━━━━━━━━━━━━━━━━━━━━━━━━\u001b[0m \u001b[32m9.1/9.1 MB\u001b[0m \u001b[31m110.2 MB/s\u001b[0m eta \u001b[36m0:00:00\u001b[0m\n",
            "\u001b[?25hDownloading tokenizers-0.19.1-cp312-cp312-manylinux_2_17_x86_64.manylinux2014_x86_64.whl (3.6 MB)\n",
            "\u001b[2K   \u001b[90m━━━━━━━━━━━━━━━━━━━━━━━━━━━━━━━━━━━━━━━━\u001b[0m \u001b[32m3.6/3.6 MB\u001b[0m \u001b[31m114.9 MB/s\u001b[0m eta \u001b[36m0:00:00\u001b[0m\n",
            "\u001b[?25hInstalling collected packages: tokenizers, transformers\n",
            "  Attempting uninstall: tokenizers\n",
            "    Found existing installation: tokenizers 0.22.1\n",
            "    Uninstalling tokenizers-0.22.1:\n",
            "      Successfully uninstalled tokenizers-0.22.1\n",
            "  Attempting uninstall: transformers\n",
            "    Found existing installation: transformers 4.57.1\n",
            "    Uninstalling transformers-4.57.1:\n",
            "      Successfully uninstalled transformers-4.57.1\n",
            "Successfully installed tokenizers-0.19.1 transformers-4.41.2\n"
          ]
        }
      ],
      "source": [
        "!pip install transformers==4.41.2"
      ]
    },
    {
      "cell_type": "code",
      "execution_count": 32,
      "metadata": {
        "id": "UZkKFooAJdME",
        "colab": {
          "base_uri": "https://localhost:8080/"
        },
        "outputId": "d0886458-3f59-42cc-8060-6a8cc72de865"
      },
      "outputs": [
        {
          "output_type": "stream",
          "name": "stdout",
          "text": [
            "Requirement already satisfied: transformers in /usr/local/lib/python3.12/dist-packages (4.41.2)\n",
            "Collecting transformers\n",
            "  Downloading transformers-4.57.1-py3-none-any.whl.metadata (43 kB)\n",
            "\u001b[2K     \u001b[90m━━━━━━━━━━━━━━━━━━━━━━━━━━━━━━━━━━━━━━━━\u001b[0m \u001b[32m44.0/44.0 kB\u001b[0m \u001b[31m3.5 MB/s\u001b[0m eta \u001b[36m0:00:00\u001b[0m\n",
            "\u001b[?25hRequirement already satisfied: peft in /usr/local/lib/python3.12/dist-packages (0.17.1)\n",
            "Requirement already satisfied: accelerate in /usr/local/lib/python3.12/dist-packages (1.11.0)\n",
            "Requirement already satisfied: bitsandbytes in /usr/local/lib/python3.12/dist-packages (0.48.1)\n",
            "Requirement already satisfied: filelock in /usr/local/lib/python3.12/dist-packages (from transformers) (3.20.0)\n",
            "Requirement already satisfied: huggingface-hub<1.0,>=0.34.0 in /usr/local/lib/python3.12/dist-packages (from transformers) (0.35.3)\n",
            "Requirement already satisfied: numpy>=1.17 in /usr/local/lib/python3.12/dist-packages (from transformers) (2.0.2)\n",
            "Requirement already satisfied: packaging>=20.0 in /usr/local/lib/python3.12/dist-packages (from transformers) (25.0)\n",
            "Requirement already satisfied: pyyaml>=5.1 in /usr/local/lib/python3.12/dist-packages (from transformers) (6.0.3)\n",
            "Requirement already satisfied: regex!=2019.12.17 in /usr/local/lib/python3.12/dist-packages (from transformers) (2024.11.6)\n",
            "Requirement already satisfied: requests in /usr/local/lib/python3.12/dist-packages (from transformers) (2.32.4)\n",
            "Collecting tokenizers<=0.23.0,>=0.22.0 (from transformers)\n",
            "  Downloading tokenizers-0.22.1-cp39-abi3-manylinux_2_17_x86_64.manylinux2014_x86_64.whl.metadata (6.8 kB)\n",
            "Requirement already satisfied: safetensors>=0.4.3 in /usr/local/lib/python3.12/dist-packages (from transformers) (0.6.2)\n",
            "Requirement already satisfied: tqdm>=4.27 in /usr/local/lib/python3.12/dist-packages (from transformers) (4.67.1)\n",
            "Requirement already satisfied: psutil in /usr/local/lib/python3.12/dist-packages (from peft) (5.9.5)\n",
            "Requirement already satisfied: torch>=1.13.0 in /usr/local/lib/python3.12/dist-packages (from peft) (2.8.0+cu126)\n",
            "Requirement already satisfied: fsspec>=2023.5.0 in /usr/local/lib/python3.12/dist-packages (from huggingface-hub<1.0,>=0.34.0->transformers) (2025.3.0)\n",
            "Requirement already satisfied: typing-extensions>=3.7.4.3 in /usr/local/lib/python3.12/dist-packages (from huggingface-hub<1.0,>=0.34.0->transformers) (4.15.0)\n",
            "Requirement already satisfied: hf-xet<2.0.0,>=1.1.3 in /usr/local/lib/python3.12/dist-packages (from huggingface-hub<1.0,>=0.34.0->transformers) (1.1.10)\n",
            "Requirement already satisfied: setuptools in /usr/local/lib/python3.12/dist-packages (from torch>=1.13.0->peft) (75.2.0)\n",
            "Requirement already satisfied: sympy>=1.13.3 in /usr/local/lib/python3.12/dist-packages (from torch>=1.13.0->peft) (1.13.3)\n",
            "Requirement already satisfied: networkx in /usr/local/lib/python3.12/dist-packages (from torch>=1.13.0->peft) (3.5)\n",
            "Requirement already satisfied: jinja2 in /usr/local/lib/python3.12/dist-packages (from torch>=1.13.0->peft) (3.1.6)\n",
            "Requirement already satisfied: nvidia-cuda-nvrtc-cu12==12.6.77 in /usr/local/lib/python3.12/dist-packages (from torch>=1.13.0->peft) (12.6.77)\n",
            "Requirement already satisfied: nvidia-cuda-runtime-cu12==12.6.77 in /usr/local/lib/python3.12/dist-packages (from torch>=1.13.0->peft) (12.6.77)\n",
            "Requirement already satisfied: nvidia-cuda-cupti-cu12==12.6.80 in /usr/local/lib/python3.12/dist-packages (from torch>=1.13.0->peft) (12.6.80)\n",
            "Requirement already satisfied: nvidia-cudnn-cu12==9.10.2.21 in /usr/local/lib/python3.12/dist-packages (from torch>=1.13.0->peft) (9.10.2.21)\n",
            "Requirement already satisfied: nvidia-cublas-cu12==12.6.4.1 in /usr/local/lib/python3.12/dist-packages (from torch>=1.13.0->peft) (12.6.4.1)\n",
            "Requirement already satisfied: nvidia-cufft-cu12==11.3.0.4 in /usr/local/lib/python3.12/dist-packages (from torch>=1.13.0->peft) (11.3.0.4)\n",
            "Requirement already satisfied: nvidia-curand-cu12==10.3.7.77 in /usr/local/lib/python3.12/dist-packages (from torch>=1.13.0->peft) (10.3.7.77)\n",
            "Requirement already satisfied: nvidia-cusolver-cu12==11.7.1.2 in /usr/local/lib/python3.12/dist-packages (from torch>=1.13.0->peft) (11.7.1.2)\n",
            "Requirement already satisfied: nvidia-cusparse-cu12==12.5.4.2 in /usr/local/lib/python3.12/dist-packages (from torch>=1.13.0->peft) (12.5.4.2)\n",
            "Requirement already satisfied: nvidia-cusparselt-cu12==0.7.1 in /usr/local/lib/python3.12/dist-packages (from torch>=1.13.0->peft) (0.7.1)\n",
            "Requirement already satisfied: nvidia-nccl-cu12==2.27.3 in /usr/local/lib/python3.12/dist-packages (from torch>=1.13.0->peft) (2.27.3)\n",
            "Requirement already satisfied: nvidia-nvtx-cu12==12.6.77 in /usr/local/lib/python3.12/dist-packages (from torch>=1.13.0->peft) (12.6.77)\n",
            "Requirement already satisfied: nvidia-nvjitlink-cu12==12.6.85 in /usr/local/lib/python3.12/dist-packages (from torch>=1.13.0->peft) (12.6.85)\n",
            "Requirement already satisfied: nvidia-cufile-cu12==1.11.1.6 in /usr/local/lib/python3.12/dist-packages (from torch>=1.13.0->peft) (1.11.1.6)\n",
            "Requirement already satisfied: triton==3.4.0 in /usr/local/lib/python3.12/dist-packages (from torch>=1.13.0->peft) (3.4.0)\n",
            "Requirement already satisfied: charset_normalizer<4,>=2 in /usr/local/lib/python3.12/dist-packages (from requests->transformers) (3.4.4)\n",
            "Requirement already satisfied: idna<4,>=2.5 in /usr/local/lib/python3.12/dist-packages (from requests->transformers) (3.11)\n",
            "Requirement already satisfied: urllib3<3,>=1.21.1 in /usr/local/lib/python3.12/dist-packages (from requests->transformers) (2.5.0)\n",
            "Requirement already satisfied: certifi>=2017.4.17 in /usr/local/lib/python3.12/dist-packages (from requests->transformers) (2025.10.5)\n",
            "Requirement already satisfied: mpmath<1.4,>=1.1.0 in /usr/local/lib/python3.12/dist-packages (from sympy>=1.13.3->torch>=1.13.0->peft) (1.3.0)\n",
            "Requirement already satisfied: MarkupSafe>=2.0 in /usr/local/lib/python3.12/dist-packages (from jinja2->torch>=1.13.0->peft) (3.0.3)\n",
            "Downloading transformers-4.57.1-py3-none-any.whl (12.0 MB)\n",
            "\u001b[2K   \u001b[90m━━━━━━━━━━━━━━━━━━━━━━━━━━━━━━━━━━━━━━━━\u001b[0m \u001b[32m12.0/12.0 MB\u001b[0m \u001b[31m127.2 MB/s\u001b[0m eta \u001b[36m0:00:00\u001b[0m\n",
            "\u001b[?25hDownloading tokenizers-0.22.1-cp39-abi3-manylinux_2_17_x86_64.manylinux2014_x86_64.whl (3.3 MB)\n",
            "\u001b[2K   \u001b[90m━━━━━━━━━━━━━━━━━━━━━━━━━━━━━━━━━━━━━━━━\u001b[0m \u001b[32m3.3/3.3 MB\u001b[0m \u001b[31m113.1 MB/s\u001b[0m eta \u001b[36m0:00:00\u001b[0m\n",
            "\u001b[?25hInstalling collected packages: tokenizers, transformers\n",
            "  Attempting uninstall: tokenizers\n",
            "    Found existing installation: tokenizers 0.19.1\n",
            "    Uninstalling tokenizers-0.19.1:\n",
            "      Successfully uninstalled tokenizers-0.19.1\n",
            "  Attempting uninstall: transformers\n",
            "    Found existing installation: transformers 4.41.2\n",
            "    Uninstalling transformers-4.41.2:\n",
            "      Successfully uninstalled transformers-4.41.2\n",
            "Successfully installed tokenizers-0.22.1 transformers-4.57.1\n"
          ]
        }
      ],
      "source": [
        "!pip install --upgrade transformers peft accelerate bitsandbytes"
      ]
    }
  ],
  "metadata": {
    "accelerator": "GPU",
    "colab": {
      "gpuType": "T4",
      "provenance": [],
      "authorship_tag": "ABX9TyPx8sILZotdp0DCXxcjjVjb",
      "include_colab_link": true
    },
    "kernelspec": {
      "display_name": "Python 3",
      "name": "python3"
    },
    "language_info": {
      "name": "python"
    }
  },
  "nbformat": 4,
  "nbformat_minor": 0
}